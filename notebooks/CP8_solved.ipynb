{
  "cells": [
    {
      "cell_type": "markdown",
      "metadata": {
        "colab_type": "text",
        "id": "view-in-github"
      },
      "source": [
        "<a href=\"https://colab.research.google.com/github/andreacangiani/NSPDE-ANA2024/blob/main/Python/CP8.ipynb\" target=\"_parent\"><img src=\"https://colab.research.google.com/assets/colab-badge.svg\" alt=\"Open In Colab\"/></a>"
      ]
    },
    {
      "cell_type": "markdown",
      "metadata": {
        "id": "_xNKsr0STBRP"
      },
      "source": [
        "# FEniCS Tutorial 2: solving diffusion problems in 2D"
      ]
    },
    {
      "cell_type": "markdown",
      "metadata": {
        "id": "fBMAMfrnTT63"
      },
      "source": [
        "We start by loading the FEniCSx modules, exaclty as in the previous tutorial."
      ]
    },
    {
      "cell_type": "code",
      "execution_count": 1,
      "metadata": {
        "id": "WMF6CUwWS29z"
      },
      "outputs": [],
      "source": [
        "try:\n",
        "    import dolfinx\n",
        "except ImportError:\n",
        "    !wget \"https://github.com/fem-on-colab/fem-on-colab.github.io/raw/a3d664e/releases/fenicsx-install-real.sh\" -O \"/tmp/fenicsx-install.sh\" && bash \"/tmp/fenicsx-install.sh\"\n",
        "    import dolfinx"
      ]
    },
    {
      "cell_type": "code",
      "execution_count": 2,
      "metadata": {
        "id": "Jy79QPMRTdK9"
      },
      "outputs": [],
      "source": [
        "try:\n",
        "    import viskex\n",
        "except ImportError:\n",
        "    !pip3 install \"viskex@git+https://github.com/viskex/viskex.git@f26b326\"\n",
        "    import viskex"
      ]
    },
    {
      "cell_type": "code",
      "execution_count": 3,
      "metadata": {
        "id": "uPArpuUgTglM"
      },
      "outputs": [],
      "source": [
        "import dolfinx.fem\n",
        "import dolfinx.fem.petsc\n",
        "import dolfinx.mesh\n",
        "import mpi4py.MPI\n",
        "import numpy as np\n",
        "import petsc4py.PETSc\n",
        "import ufl\n",
        "import viskex"
      ]
    },
    {
      "cell_type": "markdown",
      "metadata": {
        "id": "5n3yU3bgTqSh"
      },
      "source": [
        "We consider the model boundary value problem: find $u: \\Omega = (0, 1)^2 \\to \\mathbb{R}$ such that\n",
        "\n",
        "\\begin{equation*}\n",
        "\\begin{cases}\n",
        "- \\Delta u = f, & \\text{in } \\Omega,\\\\\n",
        "u = g, & \\text{on } \\partial\\Omega.\n",
        "\\end{cases}\n",
        "\\end{equation*}\n",
        "\n",
        "with $f\\equiv 1$ and the boundary value $g(\\mathbf{x})$ given by\n",
        "$$\n",
        "g(\\mathbf{x}) = g(x_0, x_1) = \\sin(3 \\pi x_0 + 1) \\ \\sin(3 \\pi x_1 + 1).\n",
        "$$"
      ]
    },
    {
      "cell_type": "markdown",
      "metadata": {
        "id": "JuPOCXx-T8wV"
      },
      "source": [
        "\n",
        "**Task 1: create a mesh.** As first example, we generate a triangular mesh of the domain $\\Omega$, dividing both the horizontal and vertical sides of the square in nxm equispaced subintervals.\n",
        "\n",
        "Similarly to 1D case, `dolfinx.mesh` provides the function `create_unit_square` for this task."
      ]
    },
    {
      "cell_type": "code",
      "execution_count": 4,
      "metadata": {
        "id": "pF1Tpx8IUjTz"
      },
      "outputs": [],
      "source": [
        "n = 10\n",
        "m = 15\n",
        "mesh = dolfinx.mesh.create_unit_square(mpi4py.MPI.COMM_WORLD, n, m)"
      ]
    },
    {
      "cell_type": "markdown",
      "metadata": {
        "id": "ef4UIz_thrih"
      },
      "source": [
        "Let's see how many cells are in the mesh.\n",
        "\n",
        "We store in:\n",
        "* tdim: the problem dimension (2)\n",
        "* fdim: the mesh scheleton entities dimension (1)\n",
        "* num_cells: the number of triangles in the mesh\n",
        "\n",
        "We can extract the num_cells information as we did in the 1D case from the connectivity or directly..."
      ]
    },
    {
      "cell_type": "code",
      "execution_count": 5,
      "metadata": {
        "id": "sAmv5f7kbFvS"
      },
      "outputs": [
        {
          "name": "stdout",
          "output_type": "stream",
          "text": [
            "<AdjacencyList> with 300 nodes\n",
            "  0: [0 1 2 ]\n",
            "  1: [0 3 2 ]\n",
            "  2: [4 0 3 ]\n",
            "  3: [3 2 5 ]\n",
            "  4: [4 6 3 ]\n",
            "  5: [3 7 5 ]\n",
            "  6: [8 4 6 ]\n",
            "  7: [6 3 7 ]\n",
            "  8: [7 5 9 ]\n",
            "  9: [8 10 6 ]\n",
            "  10: [6 11 7 ]\n",
            "  11: [7 12 9 ]\n",
            "  12: [13 8 10 ]\n",
            "  13: [10 6 11 ]\n",
            "  14: [11 7 12 ]\n",
            "  15: [12 9 14 ]\n",
            "  16: [13 15 10 ]\n",
            "  17: [10 16 11 ]\n",
            "  18: [11 17 12 ]\n",
            "  19: [12 18 14 ]\n",
            "  20: [19 13 15 ]\n",
            "  21: [15 10 16 ]\n",
            "  22: [16 11 17 ]\n",
            "  23: [17 12 18 ]\n",
            "  24: [18 14 20 ]\n",
            "  25: [19 21 15 ]\n",
            "  26: [15 22 16 ]\n",
            "  27: [16 23 17 ]\n",
            "  28: [17 24 18 ]\n",
            "  29: [18 25 20 ]\n",
            "  30: [26 19 21 ]\n",
            "  31: [21 15 22 ]\n",
            "  32: [22 16 23 ]\n",
            "  33: [23 17 24 ]\n",
            "  34: [24 18 25 ]\n",
            "  35: [25 20 27 ]\n",
            "  36: [26 28 21 ]\n",
            "  37: [21 29 22 ]\n",
            "  38: [22 30 23 ]\n",
            "  39: [23 31 24 ]\n",
            "  40: [24 32 25 ]\n",
            "  41: [25 33 27 ]\n",
            "  42: [34 26 28 ]\n",
            "  43: [28 21 29 ]\n",
            "  44: [29 22 30 ]\n",
            "  45: [30 23 31 ]\n",
            "  46: [31 24 32 ]\n",
            "  47: [32 25 33 ]\n",
            "  48: [33 27 35 ]\n",
            "  49: [34 36 28 ]\n",
            "  50: [28 37 29 ]\n",
            "  51: [29 38 30 ]\n",
            "  52: [30 39 31 ]\n",
            "  53: [31 40 32 ]\n",
            "  54: [32 41 33 ]\n",
            "  55: [33 42 35 ]\n",
            "  56: [43 34 36 ]\n",
            "  57: [36 28 37 ]\n",
            "  58: [37 29 38 ]\n",
            "  59: [38 30 39 ]\n",
            "  60: [39 31 40 ]\n",
            "  61: [40 32 41 ]\n",
            "  62: [41 33 42 ]\n",
            "  63: [42 35 44 ]\n",
            "  64: [43 45 36 ]\n",
            "  65: [36 46 37 ]\n",
            "  66: [37 47 38 ]\n",
            "  67: [38 48 39 ]\n",
            "  68: [39 49 40 ]\n",
            "  69: [40 50 41 ]\n",
            "  70: [41 51 42 ]\n",
            "  71: [42 52 44 ]\n",
            "  72: [53 43 45 ]\n",
            "  73: [45 36 46 ]\n",
            "  74: [46 37 47 ]\n",
            "  75: [47 38 48 ]\n",
            "  76: [48 39 49 ]\n",
            "  77: [49 40 50 ]\n",
            "  78: [50 41 51 ]\n",
            "  79: [51 42 52 ]\n",
            "  80: [52 44 54 ]\n",
            "  81: [53 55 45 ]\n",
            "  82: [45 56 46 ]\n",
            "  83: [46 57 47 ]\n",
            "  84: [47 58 48 ]\n",
            "  85: [48 59 49 ]\n",
            "  86: [49 60 50 ]\n",
            "  87: [50 61 51 ]\n",
            "  88: [51 62 52 ]\n",
            "  89: [52 63 54 ]\n",
            "  90: [64 53 55 ]\n",
            "  91: [55 45 56 ]\n",
            "  92: [56 46 57 ]\n",
            "  93: [57 47 58 ]\n",
            "  94: [58 48 59 ]\n",
            "  95: [59 49 60 ]\n",
            "  96: [60 50 61 ]\n",
            "  97: [61 51 62 ]\n",
            "  98: [62 52 63 ]\n",
            "  99: [63 54 65 ]\n",
            "  100: [64 66 55 ]\n",
            "  101: [55 67 56 ]\n",
            "  102: [56 68 57 ]\n",
            "  103: [57 69 58 ]\n",
            "  104: [58 70 59 ]\n",
            "  105: [59 71 60 ]\n",
            "  106: [60 72 61 ]\n",
            "  107: [61 73 62 ]\n",
            "  108: [62 74 63 ]\n",
            "  109: [63 75 65 ]\n",
            "  110: [66 55 67 ]\n",
            "  111: [67 56 68 ]\n",
            "  112: [68 57 69 ]\n",
            "  113: [69 58 70 ]\n",
            "  114: [70 59 71 ]\n",
            "  115: [71 60 72 ]\n",
            "  116: [72 61 73 ]\n",
            "  117: [73 62 74 ]\n",
            "  118: [74 63 75 ]\n",
            "  119: [75 65 76 ]\n",
            "  120: [66 77 67 ]\n",
            "  121: [67 78 68 ]\n",
            "  122: [68 79 69 ]\n",
            "  123: [69 80 70 ]\n",
            "  124: [70 81 71 ]\n",
            "  125: [71 82 72 ]\n",
            "  126: [72 83 73 ]\n",
            "  127: [73 84 74 ]\n",
            "  128: [74 85 75 ]\n",
            "  129: [75 86 76 ]\n",
            "  130: [77 67 78 ]\n",
            "  131: [78 68 79 ]\n",
            "  132: [79 69 80 ]\n",
            "  133: [80 70 81 ]\n",
            "  134: [81 71 82 ]\n",
            "  135: [82 72 83 ]\n",
            "  136: [83 73 84 ]\n",
            "  137: [84 74 85 ]\n",
            "  138: [85 75 86 ]\n",
            "  139: [86 76 87 ]\n",
            "  140: [77 88 78 ]\n",
            "  141: [78 89 79 ]\n",
            "  142: [79 90 80 ]\n",
            "  143: [80 91 81 ]\n",
            "  144: [81 92 82 ]\n",
            "  145: [82 93 83 ]\n",
            "  146: [83 94 84 ]\n",
            "  147: [84 95 85 ]\n",
            "  148: [85 96 86 ]\n",
            "  149: [86 97 87 ]\n",
            "  150: [88 78 89 ]\n",
            "  151: [89 79 90 ]\n",
            "  152: [90 80 91 ]\n",
            "  153: [91 81 92 ]\n",
            "  154: [92 82 93 ]\n",
            "  155: [93 83 94 ]\n",
            "  156: [94 84 95 ]\n",
            "  157: [95 85 96 ]\n",
            "  158: [96 86 97 ]\n",
            "  159: [97 87 98 ]\n",
            "  160: [88 99 89 ]\n",
            "  161: [89 100 90 ]\n",
            "  162: [90 101 91 ]\n",
            "  163: [91 102 92 ]\n",
            "  164: [92 103 93 ]\n",
            "  165: [93 104 94 ]\n",
            "  166: [94 105 95 ]\n",
            "  167: [95 106 96 ]\n",
            "  168: [96 107 97 ]\n",
            "  169: [97 108 98 ]\n",
            "  170: [99 89 100 ]\n",
            "  171: [100 90 101 ]\n",
            "  172: [101 91 102 ]\n",
            "  173: [102 92 103 ]\n",
            "  174: [103 93 104 ]\n",
            "  175: [104 94 105 ]\n",
            "  176: [105 95 106 ]\n",
            "  177: [106 96 107 ]\n",
            "  178: [107 97 108 ]\n",
            "  179: [108 98 109 ]\n",
            "  180: [99 110 100 ]\n",
            "  181: [100 111 101 ]\n",
            "  182: [101 112 102 ]\n",
            "  183: [102 113 103 ]\n",
            "  184: [103 114 104 ]\n",
            "  185: [104 115 105 ]\n",
            "  186: [105 116 106 ]\n",
            "  187: [106 117 107 ]\n",
            "  188: [107 118 108 ]\n",
            "  189: [108 119 109 ]\n",
            "  190: [110 100 111 ]\n",
            "  191: [111 101 112 ]\n",
            "  192: [112 102 113 ]\n",
            "  193: [113 103 114 ]\n",
            "  194: [114 104 115 ]\n",
            "  195: [115 105 116 ]\n",
            "  196: [116 106 117 ]\n",
            "  197: [117 107 118 ]\n",
            "  198: [118 108 119 ]\n",
            "  199: [119 109 120 ]\n",
            "  200: [110 121 111 ]\n",
            "  201: [111 122 112 ]\n",
            "  202: [112 123 113 ]\n",
            "  203: [113 124 114 ]\n",
            "  204: [114 125 115 ]\n",
            "  205: [115 126 116 ]\n",
            "  206: [116 127 117 ]\n",
            "  207: [117 128 118 ]\n",
            "  208: [118 129 119 ]\n",
            "  209: [119 130 120 ]\n",
            "  210: [121 111 122 ]\n",
            "  211: [122 112 123 ]\n",
            "  212: [123 113 124 ]\n",
            "  213: [124 114 125 ]\n",
            "  214: [125 115 126 ]\n",
            "  215: [126 116 127 ]\n",
            "  216: [127 117 128 ]\n",
            "  217: [128 118 129 ]\n",
            "  218: [129 119 130 ]\n",
            "  219: [121 131 122 ]\n",
            "  220: [122 132 123 ]\n",
            "  221: [123 133 124 ]\n",
            "  222: [124 134 125 ]\n",
            "  223: [125 135 126 ]\n",
            "  224: [126 136 127 ]\n",
            "  225: [127 137 128 ]\n",
            "  226: [128 138 129 ]\n",
            "  227: [129 139 130 ]\n",
            "  228: [131 122 132 ]\n",
            "  229: [132 123 133 ]\n",
            "  230: [133 124 134 ]\n",
            "  231: [134 125 135 ]\n",
            "  232: [135 126 136 ]\n",
            "  233: [136 127 137 ]\n",
            "  234: [137 128 138 ]\n",
            "  235: [138 129 139 ]\n",
            "  236: [131 140 132 ]\n",
            "  237: [132 141 133 ]\n",
            "  238: [133 142 134 ]\n",
            "  239: [134 143 135 ]\n",
            "  240: [135 144 136 ]\n",
            "  241: [136 145 137 ]\n",
            "  242: [137 146 138 ]\n",
            "  243: [138 147 139 ]\n",
            "  244: [140 132 141 ]\n",
            "  245: [141 133 142 ]\n",
            "  246: [142 134 143 ]\n",
            "  247: [143 135 144 ]\n",
            "  248: [144 136 145 ]\n",
            "  249: [145 137 146 ]\n",
            "  250: [146 138 147 ]\n",
            "  251: [140 148 141 ]\n",
            "  252: [141 149 142 ]\n",
            "  253: [142 150 143 ]\n",
            "  254: [143 151 144 ]\n",
            "  255: [144 152 145 ]\n",
            "  256: [145 153 146 ]\n",
            "  257: [146 154 147 ]\n",
            "  258: [148 141 149 ]\n",
            "  259: [149 142 150 ]\n",
            "  260: [150 143 151 ]\n",
            "  261: [151 144 152 ]\n",
            "  262: [152 145 153 ]\n",
            "  263: [153 146 154 ]\n",
            "  264: [148 155 149 ]\n",
            "  265: [149 156 150 ]\n",
            "  266: [150 157 151 ]\n",
            "  267: [151 158 152 ]\n",
            "  268: [152 159 153 ]\n",
            "  269: [153 160 154 ]\n",
            "  270: [155 149 156 ]\n",
            "  271: [156 150 157 ]\n",
            "  272: [157 151 158 ]\n",
            "  273: [158 152 159 ]\n",
            "  274: [159 153 160 ]\n",
            "  275: [155 161 156 ]\n",
            "  276: [156 162 157 ]\n",
            "  277: [157 163 158 ]\n",
            "  278: [158 164 159 ]\n",
            "  279: [159 165 160 ]\n",
            "  280: [161 156 162 ]\n",
            "  281: [162 157 163 ]\n",
            "  282: [163 158 164 ]\n",
            "  283: [164 159 165 ]\n",
            "  284: [161 166 162 ]\n",
            "  285: [162 167 163 ]\n",
            "  286: [163 168 164 ]\n",
            "  287: [164 169 165 ]\n",
            "  288: [166 162 167 ]\n",
            "  289: [167 163 168 ]\n",
            "  290: [168 164 169 ]\n",
            "  291: [166 170 167 ]\n",
            "  292: [167 171 168 ]\n",
            "  293: [168 172 169 ]\n",
            "  294: [170 167 171 ]\n",
            "  295: [171 168 172 ]\n",
            "  296: [170 173 171 ]\n",
            "  297: [171 174 172 ]\n",
            "  298: [173 171 174 ]\n",
            "  299: [173 175 174 ]\n",
            "\n",
            "300\n",
            "300\n"
          ]
        }
      ],
      "source": [
        "tdim = mesh.topology.dim\n",
        "fdim = tdim - 1\n",
        "\n",
        "connectivity_cells_to_vertices = mesh.topology.connectivity(mesh.topology.dim, 0)\n",
        "print(connectivity_cells_to_vertices)\n",
        "\n",
        "num_cells = len(connectivity_cells_to_vertices)\n",
        "print(num_cells)\n",
        "\n",
        "num_cells = mesh.topology.index_map(tdim).size_local\n",
        "print(num_cells)"
      ]
    },
    {
      "cell_type": "markdown",
      "metadata": {
        "id": "sQzzflCSVMah"
      },
      "source": [
        "We can obtain an interactive plot of the domain using `pyvista`. (Click on the menu: next to the dropdown that contains \"Geometry 0\" you may find three different representations: the domain itself, the edges of the mesh, and both overlayed.)"
      ]
    },
    {
      "cell_type": "code",
      "execution_count": null,
      "metadata": {
        "id": "I1osUxojVrPJ"
      },
      "outputs": [
        {
          "data": {
            "application/vnd.jupyter.widget-view+json": {
              "model_id": "52d8c98688944832831a8a65a2341c60",
              "version_major": 2,
              "version_minor": 0
            },
            "text/plain": [
              "Widget(value='<iframe src=\"http://localhost:36453/index.html?ui=P_0x71506b39d430_0&reconnect=auto\" class=\"pyvi…"
            ]
          },
          "metadata": {},
          "output_type": "display_data"
        },
        {
          "name": "stderr",
          "output_type": "stream",
          "text": [
            "Exception raised\n",
            "ConnectionResetError('Cannot write to closing transport')\n",
            "Traceback (most recent call last):\n",
            "  File \"/home/nicola/miniconda3/envs/fenicsx-env/lib/python3.12/site-packages/wslink/protocol.py\", line 317, in onCompleteMessage\n",
            "    await self.sendWrappedMessage(\n",
            "  File \"/home/nicola/miniconda3/envs/fenicsx-env/lib/python3.12/site-packages/wslink/protocol.py\", line 418, in sendWrappedMessage\n",
            "    await ws.send_bytes(chunk)\n",
            "  File \"/home/nicola/miniconda3/envs/fenicsx-env/lib/python3.12/site-packages/aiohttp/web_ws.py\", line 342, in send_bytes\n",
            "    await self._writer.send(data, binary=True, compress=compress)\n",
            "  File \"/home/nicola/miniconda3/envs/fenicsx-env/lib/python3.12/site-packages/aiohttp/http_websocket.py\", line 727, in send\n",
            "    await self._send_frame(message, WSMsgType.BINARY, compress)\n",
            "  File \"/home/nicola/miniconda3/envs/fenicsx-env/lib/python3.12/site-packages/aiohttp/http_websocket.py\", line 682, in _send_frame\n",
            "    self._write(header + message)\n",
            "  File \"/home/nicola/miniconda3/envs/fenicsx-env/lib/python3.12/site-packages/aiohttp/http_websocket.py\", line 702, in _write\n",
            "    raise ConnectionResetError(\"Cannot write to closing transport\")\n",
            "ConnectionResetError: Cannot write to closing transport\n",
            "\n",
            "Error handling request\n",
            "Traceback (most recent call last):\n",
            "  File \"/home/nicola/miniconda3/envs/fenicsx-env/lib/python3.12/site-packages/wslink/protocol.py\", line 317, in onCompleteMessage\n",
            "    await self.sendWrappedMessage(\n",
            "  File \"/home/nicola/miniconda3/envs/fenicsx-env/lib/python3.12/site-packages/wslink/protocol.py\", line 418, in sendWrappedMessage\n",
            "    await ws.send_bytes(chunk)\n",
            "  File \"/home/nicola/miniconda3/envs/fenicsx-env/lib/python3.12/site-packages/aiohttp/web_ws.py\", line 342, in send_bytes\n",
            "    await self._writer.send(data, binary=True, compress=compress)\n",
            "  File \"/home/nicola/miniconda3/envs/fenicsx-env/lib/python3.12/site-packages/aiohttp/http_websocket.py\", line 727, in send\n",
            "    await self._send_frame(message, WSMsgType.BINARY, compress)\n",
            "  File \"/home/nicola/miniconda3/envs/fenicsx-env/lib/python3.12/site-packages/aiohttp/http_websocket.py\", line 682, in _send_frame\n",
            "    self._write(header + message)\n",
            "  File \"/home/nicola/miniconda3/envs/fenicsx-env/lib/python3.12/site-packages/aiohttp/http_websocket.py\", line 702, in _write\n",
            "    raise ConnectionResetError(\"Cannot write to closing transport\")\n",
            "ConnectionResetError: Cannot write to closing transport\n",
            "\n",
            "During handling of the above exception, another exception occurred:\n",
            "\n",
            "Traceback (most recent call last):\n",
            "  File \"/home/nicola/miniconda3/envs/fenicsx-env/lib/python3.12/site-packages/aiohttp/web_protocol.py\", line 452, in _handle_request\n",
            "    resp = await request_handler(request)\n",
            "           ^^^^^^^^^^^^^^^^^^^^^^^^^^^^^^\n",
            "  File \"/home/nicola/miniconda3/envs/fenicsx-env/lib/python3.12/site-packages/aiohttp/web_app.py\", line 543, in _handle\n",
            "    resp = await handler(request)\n",
            "           ^^^^^^^^^^^^^^^^^^^^^^\n",
            "  File \"/home/nicola/miniconda3/envs/fenicsx-env/lib/python3.12/site-packages/wslink/backends/aiohttp/__init__.py\", line 234, in handleWsRequest\n",
            "    await self.onMessage(is_binary(msg), msg, client_id)\n",
            "  File \"/home/nicola/miniconda3/envs/fenicsx-env/lib/python3.12/site-packages/wslink/protocol.py\", line 260, in onMessage\n",
            "    await self.onCompleteMessage(full_message, client_id)\n",
            "  File \"/home/nicola/miniconda3/envs/fenicsx-env/lib/python3.12/site-packages/wslink/protocol.py\", line 325, in onCompleteMessage\n",
            "    await self.sendWrappedError(\n",
            "  File \"/home/nicola/miniconda3/envs/fenicsx-env/lib/python3.12/site-packages/wslink/protocol.py\", line 450, in sendWrappedError\n",
            "    await ws.send_bytes(chunk)\n",
            "  File \"/home/nicola/miniconda3/envs/fenicsx-env/lib/python3.12/site-packages/aiohttp/web_ws.py\", line 342, in send_bytes\n",
            "    await self._writer.send(data, binary=True, compress=compress)\n",
            "  File \"/home/nicola/miniconda3/envs/fenicsx-env/lib/python3.12/site-packages/aiohttp/http_websocket.py\", line 727, in send\n",
            "    await self._send_frame(message, WSMsgType.BINARY, compress)\n",
            "  File \"/home/nicola/miniconda3/envs/fenicsx-env/lib/python3.12/site-packages/aiohttp/http_websocket.py\", line 682, in _send_frame\n",
            "    self._write(header + message)\n",
            "  File \"/home/nicola/miniconda3/envs/fenicsx-env/lib/python3.12/site-packages/aiohttp/http_websocket.py\", line 702, in _write\n",
            "    raise ConnectionResetError(\"Cannot write to closing transport\")\n",
            "ConnectionResetError: Cannot write to closing transport\n",
            "Exception raised\n",
            "ConnectionResetError('Cannot write to closing transport')\n",
            "Traceback (most recent call last):\n",
            "  File \"/home/nicola/miniconda3/envs/fenicsx-env/lib/python3.12/site-packages/wslink/protocol.py\", line 317, in onCompleteMessage\n",
            "    await self.sendWrappedMessage(\n",
            "  File \"/home/nicola/miniconda3/envs/fenicsx-env/lib/python3.12/site-packages/wslink/protocol.py\", line 418, in sendWrappedMessage\n",
            "    await ws.send_bytes(chunk)\n",
            "  File \"/home/nicola/miniconda3/envs/fenicsx-env/lib/python3.12/site-packages/aiohttp/web_ws.py\", line 342, in send_bytes\n",
            "    await self._writer.send(data, binary=True, compress=compress)\n",
            "  File \"/home/nicola/miniconda3/envs/fenicsx-env/lib/python3.12/site-packages/aiohttp/http_websocket.py\", line 727, in send\n",
            "    await self._send_frame(message, WSMsgType.BINARY, compress)\n",
            "  File \"/home/nicola/miniconda3/envs/fenicsx-env/lib/python3.12/site-packages/aiohttp/http_websocket.py\", line 682, in _send_frame\n",
            "    self._write(header + message)\n",
            "  File \"/home/nicola/miniconda3/envs/fenicsx-env/lib/python3.12/site-packages/aiohttp/http_websocket.py\", line 702, in _write\n",
            "    raise ConnectionResetError(\"Cannot write to closing transport\")\n",
            "ConnectionResetError: Cannot write to closing transport\n",
            "\n",
            "Error handling request\n",
            "Traceback (most recent call last):\n",
            "  File \"/home/nicola/miniconda3/envs/fenicsx-env/lib/python3.12/site-packages/wslink/protocol.py\", line 317, in onCompleteMessage\n",
            "    await self.sendWrappedMessage(\n",
            "  File \"/home/nicola/miniconda3/envs/fenicsx-env/lib/python3.12/site-packages/wslink/protocol.py\", line 418, in sendWrappedMessage\n",
            "    await ws.send_bytes(chunk)\n",
            "  File \"/home/nicola/miniconda3/envs/fenicsx-env/lib/python3.12/site-packages/aiohttp/web_ws.py\", line 342, in send_bytes\n",
            "    await self._writer.send(data, binary=True, compress=compress)\n",
            "  File \"/home/nicola/miniconda3/envs/fenicsx-env/lib/python3.12/site-packages/aiohttp/http_websocket.py\", line 727, in send\n",
            "    await self._send_frame(message, WSMsgType.BINARY, compress)\n",
            "  File \"/home/nicola/miniconda3/envs/fenicsx-env/lib/python3.12/site-packages/aiohttp/http_websocket.py\", line 682, in _send_frame\n",
            "    self._write(header + message)\n",
            "  File \"/home/nicola/miniconda3/envs/fenicsx-env/lib/python3.12/site-packages/aiohttp/http_websocket.py\", line 702, in _write\n",
            "    raise ConnectionResetError(\"Cannot write to closing transport\")\n",
            "ConnectionResetError: Cannot write to closing transport\n",
            "\n",
            "During handling of the above exception, another exception occurred:\n",
            "\n",
            "Traceback (most recent call last):\n",
            "  File \"/home/nicola/miniconda3/envs/fenicsx-env/lib/python3.12/site-packages/aiohttp/web_protocol.py\", line 452, in _handle_request\n",
            "    resp = await request_handler(request)\n",
            "           ^^^^^^^^^^^^^^^^^^^^^^^^^^^^^^\n",
            "  File \"/home/nicola/miniconda3/envs/fenicsx-env/lib/python3.12/site-packages/aiohttp/web_app.py\", line 543, in _handle\n",
            "    resp = await handler(request)\n",
            "           ^^^^^^^^^^^^^^^^^^^^^^\n",
            "  File \"/home/nicola/miniconda3/envs/fenicsx-env/lib/python3.12/site-packages/wslink/backends/aiohttp/__init__.py\", line 234, in handleWsRequest\n",
            "    await self.onMessage(is_binary(msg), msg, client_id)\n",
            "  File \"/home/nicola/miniconda3/envs/fenicsx-env/lib/python3.12/site-packages/wslink/protocol.py\", line 260, in onMessage\n",
            "    await self.onCompleteMessage(full_message, client_id)\n",
            "  File \"/home/nicola/miniconda3/envs/fenicsx-env/lib/python3.12/site-packages/wslink/protocol.py\", line 325, in onCompleteMessage\n",
            "    await self.sendWrappedError(\n",
            "  File \"/home/nicola/miniconda3/envs/fenicsx-env/lib/python3.12/site-packages/wslink/protocol.py\", line 450, in sendWrappedError\n",
            "    await ws.send_bytes(chunk)\n",
            "  File \"/home/nicola/miniconda3/envs/fenicsx-env/lib/python3.12/site-packages/aiohttp/web_ws.py\", line 342, in send_bytes\n",
            "    await self._writer.send(data, binary=True, compress=compress)\n",
            "  File \"/home/nicola/miniconda3/envs/fenicsx-env/lib/python3.12/site-packages/aiohttp/http_websocket.py\", line 727, in send\n",
            "    await self._send_frame(message, WSMsgType.BINARY, compress)\n",
            "  File \"/home/nicola/miniconda3/envs/fenicsx-env/lib/python3.12/site-packages/aiohttp/http_websocket.py\", line 682, in _send_frame\n",
            "    self._write(header + message)\n",
            "  File \"/home/nicola/miniconda3/envs/fenicsx-env/lib/python3.12/site-packages/aiohttp/http_websocket.py\", line 702, in _write\n",
            "    raise ConnectionResetError(\"Cannot write to closing transport\")\n",
            "ConnectionResetError: Cannot write to closing transport\n",
            "Exception raised\n",
            "ConnectionResetError('Cannot write to closing transport')\n",
            "Traceback (most recent call last):\n",
            "  File \"/home/nicola/miniconda3/envs/fenicsx-env/lib/python3.12/site-packages/wslink/protocol.py\", line 317, in onCompleteMessage\n",
            "    await self.sendWrappedMessage(\n",
            "  File \"/home/nicola/miniconda3/envs/fenicsx-env/lib/python3.12/site-packages/wslink/protocol.py\", line 418, in sendWrappedMessage\n",
            "    await ws.send_bytes(chunk)\n",
            "  File \"/home/nicola/miniconda3/envs/fenicsx-env/lib/python3.12/site-packages/aiohttp/web_ws.py\", line 342, in send_bytes\n",
            "    await self._writer.send(data, binary=True, compress=compress)\n",
            "  File \"/home/nicola/miniconda3/envs/fenicsx-env/lib/python3.12/site-packages/aiohttp/http_websocket.py\", line 727, in send\n",
            "    await self._send_frame(message, WSMsgType.BINARY, compress)\n",
            "  File \"/home/nicola/miniconda3/envs/fenicsx-env/lib/python3.12/site-packages/aiohttp/http_websocket.py\", line 682, in _send_frame\n",
            "    self._write(header + message)\n",
            "  File \"/home/nicola/miniconda3/envs/fenicsx-env/lib/python3.12/site-packages/aiohttp/http_websocket.py\", line 702, in _write\n",
            "    raise ConnectionResetError(\"Cannot write to closing transport\")\n",
            "ConnectionResetError: Cannot write to closing transport\n",
            "\n",
            "Error handling request\n",
            "Traceback (most recent call last):\n",
            "  File \"/home/nicola/miniconda3/envs/fenicsx-env/lib/python3.12/site-packages/wslink/protocol.py\", line 317, in onCompleteMessage\n",
            "    await self.sendWrappedMessage(\n",
            "  File \"/home/nicola/miniconda3/envs/fenicsx-env/lib/python3.12/site-packages/wslink/protocol.py\", line 418, in sendWrappedMessage\n",
            "    await ws.send_bytes(chunk)\n",
            "  File \"/home/nicola/miniconda3/envs/fenicsx-env/lib/python3.12/site-packages/aiohttp/web_ws.py\", line 342, in send_bytes\n",
            "    await self._writer.send(data, binary=True, compress=compress)\n",
            "  File \"/home/nicola/miniconda3/envs/fenicsx-env/lib/python3.12/site-packages/aiohttp/http_websocket.py\", line 727, in send\n",
            "    await self._send_frame(message, WSMsgType.BINARY, compress)\n",
            "  File \"/home/nicola/miniconda3/envs/fenicsx-env/lib/python3.12/site-packages/aiohttp/http_websocket.py\", line 682, in _send_frame\n",
            "    self._write(header + message)\n",
            "  File \"/home/nicola/miniconda3/envs/fenicsx-env/lib/python3.12/site-packages/aiohttp/http_websocket.py\", line 702, in _write\n",
            "    raise ConnectionResetError(\"Cannot write to closing transport\")\n",
            "ConnectionResetError: Cannot write to closing transport\n",
            "\n",
            "During handling of the above exception, another exception occurred:\n",
            "\n",
            "Traceback (most recent call last):\n",
            "  File \"/home/nicola/miniconda3/envs/fenicsx-env/lib/python3.12/site-packages/aiohttp/web_protocol.py\", line 452, in _handle_request\n",
            "    resp = await request_handler(request)\n",
            "           ^^^^^^^^^^^^^^^^^^^^^^^^^^^^^^\n",
            "  File \"/home/nicola/miniconda3/envs/fenicsx-env/lib/python3.12/site-packages/aiohttp/web_app.py\", line 543, in _handle\n",
            "    resp = await handler(request)\n",
            "           ^^^^^^^^^^^^^^^^^^^^^^\n",
            "  File \"/home/nicola/miniconda3/envs/fenicsx-env/lib/python3.12/site-packages/wslink/backends/aiohttp/__init__.py\", line 234, in handleWsRequest\n",
            "    await self.onMessage(is_binary(msg), msg, client_id)\n",
            "  File \"/home/nicola/miniconda3/envs/fenicsx-env/lib/python3.12/site-packages/wslink/protocol.py\", line 260, in onMessage\n",
            "    await self.onCompleteMessage(full_message, client_id)\n",
            "  File \"/home/nicola/miniconda3/envs/fenicsx-env/lib/python3.12/site-packages/wslink/protocol.py\", line 325, in onCompleteMessage\n",
            "    await self.sendWrappedError(\n",
            "  File \"/home/nicola/miniconda3/envs/fenicsx-env/lib/python3.12/site-packages/wslink/protocol.py\", line 450, in sendWrappedError\n",
            "    await ws.send_bytes(chunk)\n",
            "  File \"/home/nicola/miniconda3/envs/fenicsx-env/lib/python3.12/site-packages/aiohttp/web_ws.py\", line 342, in send_bytes\n",
            "    await self._writer.send(data, binary=True, compress=compress)\n",
            "  File \"/home/nicola/miniconda3/envs/fenicsx-env/lib/python3.12/site-packages/aiohttp/http_websocket.py\", line 727, in send\n",
            "    await self._send_frame(message, WSMsgType.BINARY, compress)\n",
            "  File \"/home/nicola/miniconda3/envs/fenicsx-env/lib/python3.12/site-packages/aiohttp/http_websocket.py\", line 682, in _send_frame\n",
            "    self._write(header + message)\n",
            "  File \"/home/nicola/miniconda3/envs/fenicsx-env/lib/python3.12/site-packages/aiohttp/http_websocket.py\", line 702, in _write\n",
            "    raise ConnectionResetError(\"Cannot write to closing transport\")\n",
            "ConnectionResetError: Cannot write to closing transport\n",
            "Exception raised\n",
            "ConnectionResetError('Cannot write to closing transport')\n",
            "Traceback (most recent call last):\n",
            "  File \"/home/nicola/miniconda3/envs/fenicsx-env/lib/python3.12/site-packages/wslink/protocol.py\", line 317, in onCompleteMessage\n",
            "    await self.sendWrappedMessage(\n",
            "  File \"/home/nicola/miniconda3/envs/fenicsx-env/lib/python3.12/site-packages/wslink/protocol.py\", line 418, in sendWrappedMessage\n",
            "    await ws.send_bytes(chunk)\n",
            "  File \"/home/nicola/miniconda3/envs/fenicsx-env/lib/python3.12/site-packages/aiohttp/web_ws.py\", line 342, in send_bytes\n",
            "    await self._writer.send(data, binary=True, compress=compress)\n",
            "  File \"/home/nicola/miniconda3/envs/fenicsx-env/lib/python3.12/site-packages/aiohttp/http_websocket.py\", line 727, in send\n",
            "    await self._send_frame(message, WSMsgType.BINARY, compress)\n",
            "  File \"/home/nicola/miniconda3/envs/fenicsx-env/lib/python3.12/site-packages/aiohttp/http_websocket.py\", line 682, in _send_frame\n",
            "    self._write(header + message)\n",
            "  File \"/home/nicola/miniconda3/envs/fenicsx-env/lib/python3.12/site-packages/aiohttp/http_websocket.py\", line 702, in _write\n",
            "    raise ConnectionResetError(\"Cannot write to closing transport\")\n",
            "ConnectionResetError: Cannot write to closing transport\n",
            "\n",
            "Error handling request\n",
            "Traceback (most recent call last):\n",
            "  File \"/home/nicola/miniconda3/envs/fenicsx-env/lib/python3.12/site-packages/wslink/protocol.py\", line 317, in onCompleteMessage\n",
            "    await self.sendWrappedMessage(\n",
            "  File \"/home/nicola/miniconda3/envs/fenicsx-env/lib/python3.12/site-packages/wslink/protocol.py\", line 418, in sendWrappedMessage\n",
            "    await ws.send_bytes(chunk)\n",
            "  File \"/home/nicola/miniconda3/envs/fenicsx-env/lib/python3.12/site-packages/aiohttp/web_ws.py\", line 342, in send_bytes\n",
            "    await self._writer.send(data, binary=True, compress=compress)\n",
            "  File \"/home/nicola/miniconda3/envs/fenicsx-env/lib/python3.12/site-packages/aiohttp/http_websocket.py\", line 727, in send\n",
            "    await self._send_frame(message, WSMsgType.BINARY, compress)\n",
            "  File \"/home/nicola/miniconda3/envs/fenicsx-env/lib/python3.12/site-packages/aiohttp/http_websocket.py\", line 682, in _send_frame\n",
            "    self._write(header + message)\n",
            "  File \"/home/nicola/miniconda3/envs/fenicsx-env/lib/python3.12/site-packages/aiohttp/http_websocket.py\", line 702, in _write\n",
            "    raise ConnectionResetError(\"Cannot write to closing transport\")\n",
            "ConnectionResetError: Cannot write to closing transport\n",
            "\n",
            "During handling of the above exception, another exception occurred:\n",
            "\n",
            "Traceback (most recent call last):\n",
            "  File \"/home/nicola/miniconda3/envs/fenicsx-env/lib/python3.12/site-packages/aiohttp/web_protocol.py\", line 452, in _handle_request\n",
            "    resp = await request_handler(request)\n",
            "           ^^^^^^^^^^^^^^^^^^^^^^^^^^^^^^\n",
            "  File \"/home/nicola/miniconda3/envs/fenicsx-env/lib/python3.12/site-packages/aiohttp/web_app.py\", line 543, in _handle\n",
            "    resp = await handler(request)\n",
            "           ^^^^^^^^^^^^^^^^^^^^^^\n",
            "  File \"/home/nicola/miniconda3/envs/fenicsx-env/lib/python3.12/site-packages/wslink/backends/aiohttp/__init__.py\", line 234, in handleWsRequest\n",
            "    await self.onMessage(is_binary(msg), msg, client_id)\n",
            "  File \"/home/nicola/miniconda3/envs/fenicsx-env/lib/python3.12/site-packages/wslink/protocol.py\", line 260, in onMessage\n",
            "    await self.onCompleteMessage(full_message, client_id)\n",
            "  File \"/home/nicola/miniconda3/envs/fenicsx-env/lib/python3.12/site-packages/wslink/protocol.py\", line 325, in onCompleteMessage\n",
            "    await self.sendWrappedError(\n",
            "  File \"/home/nicola/miniconda3/envs/fenicsx-env/lib/python3.12/site-packages/wslink/protocol.py\", line 450, in sendWrappedError\n",
            "    await ws.send_bytes(chunk)\n",
            "  File \"/home/nicola/miniconda3/envs/fenicsx-env/lib/python3.12/site-packages/aiohttp/web_ws.py\", line 342, in send_bytes\n",
            "    await self._writer.send(data, binary=True, compress=compress)\n",
            "  File \"/home/nicola/miniconda3/envs/fenicsx-env/lib/python3.12/site-packages/aiohttp/http_websocket.py\", line 727, in send\n",
            "    await self._send_frame(message, WSMsgType.BINARY, compress)\n",
            "  File \"/home/nicola/miniconda3/envs/fenicsx-env/lib/python3.12/site-packages/aiohttp/http_websocket.py\", line 682, in _send_frame\n",
            "    self._write(header + message)\n",
            "  File \"/home/nicola/miniconda3/envs/fenicsx-env/lib/python3.12/site-packages/aiohttp/http_websocket.py\", line 702, in _write\n",
            "    raise ConnectionResetError(\"Cannot write to closing transport\")\n",
            "ConnectionResetError: Cannot write to closing transport\n"
          ]
        }
      ],
      "source": [
        "try:\n",
        "    viskex.dolfinx.plot_mesh(mesh)\n",
        "except ConnectionResetError as e:\n",
        "    print(f\"ConnectionResetError encountered: {e}. Continuing execution.\")"
      ]
    },
    {
      "cell_type": "markdown",
      "metadata": {
        "id": "asiKDasAWY6n"
      },
      "source": [
        "**Task 2:** Determine IDs of boundary edges in view of the application of the Dirichlet boundary condition.\n",
        "\n",
        "As in 1D case, this is obtained via the `dolfinx.mesh` `locate_entities_boundary` function. We want all edges on the boundary, but the function always requires a third input to permit the selection of parts of the boundary. As a workaround to this, we pass as third argument the function which always returns `True`."
      ]
    },
    {
      "cell_type": "code",
      "execution_count": 7,
      "metadata": {
        "id": "SVXfQiIeWwGc"
      },
      "outputs": [
        {
          "data": {
            "text/plain": [
              "array([  0,   3,   4,   6,  12,  14,  23,  25,  37,  39,  54,  56,  74,\n",
              "        76,  97,  99, 123, 125, 152, 154, 183, 185, 187, 216, 218, 247,\n",
              "       249, 278, 280, 309, 311, 339, 341, 366, 368, 390, 392, 411, 413,\n",
              "       429, 431, 444, 446, 456, 458, 465, 467, 471, 473, 474], dtype=int32)"
            ]
          },
          "execution_count": 7,
          "metadata": {},
          "output_type": "execute_result"
        }
      ],
      "source": [
        "boundary_entities = dolfinx.mesh.locate_entities_boundary(mesh, fdim, lambda x: np.full((x.shape[1], ), True))\n",
        "boundary_entities"
      ]
    },
    {
      "cell_type": "markdown",
      "metadata": {
        "id": "Z4MIxH8AYV7D"
      },
      "source": [
        "We can store the boundary entites in a `dolfinx.mesh` `MeshTags` object, and plot it using `viskex` to check this was done correctly."
      ]
    },
    {
      "cell_type": "code",
      "execution_count": 8,
      "metadata": {
        "id": "SRVpHc01YdNU"
      },
      "outputs": [
        {
          "data": {
            "application/vnd.jupyter.widget-view+json": {
              "model_id": "da3bf9692c524d4e8c1569d1c438a89f",
              "version_major": 2,
              "version_minor": 0
            },
            "text/plain": [
              "Widget(value='<iframe src=\"http://localhost:36453/index.html?ui=P_0x7150615c0140_1&reconnect=auto\" class=\"pyvi…"
            ]
          },
          "metadata": {},
          "output_type": "display_data"
        }
      ],
      "source": [
        "boundaries = dolfinx.mesh.meshtags(mesh, fdim, boundary_entities, np.ones_like(boundary_entities))\n",
        "viskex.dolfinx.plot_mesh_tags(mesh, boundaries, \"boundaries\")"
      ]
    },
    {
      "cell_type": "markdown",
      "metadata": {
        "id": "NOMQFzZJmVTd"
      },
      "source": [
        "**Task 3: create FEM space.**\n",
        "\n",
        "Define the finite element function space $V_h$ using $\\mathbb{P}_1$ Lagrange elements.\n",
        "\n",
        "This part of the code is indistinguishable from the 1D version..."
      ]
    },
    {
      "cell_type": "code",
      "execution_count": 9,
      "metadata": {
        "id": "D1QNin0imfl4"
      },
      "outputs": [],
      "source": [
        "Vh = dolfinx.fem.functionspace(mesh, (\"Lagrange\", 2))"
      ]
    },
    {
      "cell_type": "markdown",
      "metadata": {
        "id": "0vWpPzr5mmI3"
      },
      "source": [
        "... and compute its dimension"
      ]
    },
    {
      "cell_type": "code",
      "execution_count": 10,
      "metadata": {
        "id": "iKYaXya1mozq"
      },
      "outputs": [
        {
          "data": {
            "text/plain": [
              "651"
            ]
          },
          "execution_count": 10,
          "metadata": {},
          "output_type": "execute_result"
        }
      ],
      "source": [
        "Vh_dim = Vh.dofmap.index_map.size_local\n",
        "Vh_dim"
      ]
    },
    {
      "cell_type": "markdown",
      "metadata": {
        "id": "gfq7b2dRmzIF"
      },
      "source": [
        "Once the FE space is at hand, we introduce ufl symbols to define the trial and test functions for our weak formulation:"
      ]
    },
    {
      "cell_type": "code",
      "execution_count": 11,
      "metadata": {
        "id": "srnG2gYjnAfD"
      },
      "outputs": [],
      "source": [
        "uh = ufl.TrialFunction(Vh)\n",
        "vh = ufl.TestFunction(Vh)"
      ]
    },
    {
      "cell_type": "markdown",
      "metadata": {
        "id": "6O-LPzYQnK5L"
      },
      "source": [
        "**Task 4:** set up FEM system\n",
        "\n",
        "We produce the weak formulation of the problem: find $u_h\\in V_h$ such that\n",
        "$$ \\int_\\Omega \\nabla u \\cdot \\nabla v \\ \\mathrm{d} \\mathbf{x} = \\int_\\Omega f \\ v \\ \\mathrm{d} \\mathbf{x},\\qquad\\forall v_h\\in V_h$$\n",
        "using `ufl`."
      ]
    },
    {
      "cell_type": "code",
      "execution_count": 12,
      "metadata": {
        "id": "34_EvwwYnilD"
      },
      "outputs": [],
      "source": [
        "dx = ufl.dx\n",
        "inner = ufl.inner\n",
        "grad = ufl.grad\n",
        "A = inner(grad(uh), grad(vh)) * dx"
      ]
    },
    {
      "cell_type": "code",
      "execution_count": 13,
      "metadata": {
        "id": "JLZ2N4eeooHb"
      },
      "outputs": [],
      "source": [
        "F = vh * dx"
      ]
    },
    {
      "cell_type": "markdown",
      "metadata": {
        "id": "20lvPHWOFAb-"
      },
      "source": [
        "**Task 5:** set up the boundary conditions\n",
        "\n",
        "In order to assign the boundary condition we first need to evaluate the expression of $g$ (i.e. $\\sin(3 \\pi x_0 + 1) \\ \\sin(3 \\pi x_1 + 1)$ in our case) on the finite element space $V_h$. We do this by interpolation, so we define the discrete boundary condition as\n",
        "$$g_h=I_h g$$\n",
        "\n",
        "with $I_h$ the interpolation operator."
      ]
    },
    {
      "cell_type": "code",
      "execution_count": 14,
      "metadata": {
        "id": "zCKAWD0ME_6m"
      },
      "outputs": [],
      "source": [
        "gh = dolfinx.fem.Function(Vh)\n",
        "gh.interpolate(lambda x: np.sin(3 * np.pi * x[0] + 1) * np.sin(3 * np.pi * x[1] + 1))"
      ]
    },
    {
      "cell_type": "markdown",
      "metadata": {
        "id": "ivZhXNbxHEZo"
      },
      "source": [
        "We then initialize a `dolfinx.fem` `dirichletbc` object, stating that the Dirichlet boundary condition should be equal to `gh` on each facet in `boundary_entities`."
      ]
    },
    {
      "cell_type": "code",
      "execution_count": 15,
      "metadata": {
        "id": "BeL2pvXvHKLl"
      },
      "outputs": [],
      "source": [
        "boundary_dofs = dolfinx.fem.locate_dofs_topological(Vh, fdim, boundary_entities)\n",
        "bc = dolfinx.fem.dirichletbc(gh, boundary_dofs)"
      ]
    },
    {
      "cell_type": "markdown",
      "metadata": {
        "id": "4yPtHI-hHfuA"
      },
      "source": [
        "**Task 6:** solve the FEM system.\n",
        "\n",
        "As in 1D case, we have to first provide a `Function` class to store the solution of a finite element problem and then we are ready to solve the discrete problem allocating a new `LinearProblem` (which uses `PETSc`), providing as input the bilinear form `a`, the linear functional `F`, the boundary conditions `bcs`, and where to store the solution. Further solver options can also be passed to `PETSc`."
      ]
    },
    {
      "cell_type": "code",
      "execution_count": 16,
      "metadata": {
        "id": "pOevHkspHm81"
      },
      "outputs": [],
      "source": [
        "solution = dolfinx.fem.Function(Vh)"
      ]
    },
    {
      "cell_type": "code",
      "execution_count": 17,
      "metadata": {
        "id": "TTmev_CpICDD"
      },
      "outputs": [],
      "source": [
        "problem = dolfinx.fem.petsc.LinearProblem(\n",
        "    A, F, bcs=[bc], u=solution,\n",
        "    petsc_options={\"ksp_type\": \"preonly\", \"pc_type\": \"lu\", \"pc_factor_mat_solver_type\": \"mumps\"})\n",
        "_ = problem.solve()"
      ]
    },
    {
      "cell_type": "markdown",
      "metadata": {
        "id": "zpCAqJaFIHgJ"
      },
      "source": [
        "**Task7:** plot the solution"
      ]
    },
    {
      "cell_type": "code",
      "execution_count": 18,
      "metadata": {
        "id": "1WiMjCEgIL_6"
      },
      "outputs": [
        {
          "data": {
            "application/vnd.jupyter.widget-view+json": {
              "model_id": "19085ce74d5e4e0eb37b8ad79b780f9f",
              "version_major": 2,
              "version_minor": 0
            },
            "text/plain": [
              "Widget(value='<iframe src=\"http://localhost:36453/index.html?ui=P_0x7150615c0ef0_2&reconnect=auto\" class=\"pyvi…"
            ]
          },
          "metadata": {},
          "output_type": "display_data"
        }
      ],
      "source": [
        "viskex.dolfinx.plot_scalar_field(solution, \"u_h\")"
      ]
    },
    {
      "cell_type": "markdown",
      "metadata": {
        "id": "o8TKxXjpJAHj"
      },
      "source": [
        "And here is a3D plot:"
      ]
    },
    {
      "cell_type": "code",
      "execution_count": 19,
      "metadata": {
        "id": "68FcGJtpJCTR"
      },
      "outputs": [
        {
          "data": {
            "application/vnd.jupyter.widget-view+json": {
              "model_id": "396a8272cd2745c4aee6cca966561cf4",
              "version_major": 2,
              "version_minor": 0
            },
            "text/plain": [
              "Widget(value='<iframe src=\"http://localhost:36453/index.html?ui=P_0x71506049ade0_3&reconnect=auto\" class=\"pyvi…"
            ]
          },
          "metadata": {},
          "output_type": "display_data"
        }
      ],
      "source": [
        "viskex.dolfinx.plot_scalar_field(solution, \"u_h\", warp_factor=0.1)"
      ]
    },
    {
      "cell_type": "markdown",
      "metadata": {
        "id": "2IOUJkT9XM-6"
      },
      "source": [
        "# Computing errors"
      ]
    },
    {
      "cell_type": "markdown",
      "metadata": {
        "id": "QDBFhz38XTlg"
      },
      "source": [
        "To test convergence, let us consider a problem where we fix the exact solution. Find $u: \\Omega \\to \\mathbb{R}$ such that\n",
        "\n",
        "\\begin{equation*}\n",
        "\\begin{cases}\n",
        "- \\Delta u = f, & \\text{in } \\Omega,\\\\\n",
        "u = g, & \\text{on } \\partial\\Omega,\n",
        "\\end{cases}\n",
        "\\end{equation*}\n",
        "where\n",
        "$$\\Omega = (0, 1)^2$$\n",
        "and $f$ and $g$ are chosen such that the exact solution to the strong formulation is\n",
        "$$u_{\\text{ex}}(x, y) = \\sin(2 \\pi x) \\ \\cos(2 \\pi y).$$\n",
        "\n",
        "Thus,\n",
        "$$f := - \\Delta u_{\\text{ex}} = - \\partial_{xx} u_{\\text{ex}} - \\partial_{yy} u_{\\text{ex}} = 8 \\pi^2 \\ \\sin(2 \\pi x) \\ \\cos(2 \\pi y).$$\n",
        "> Furthermore, by splitting the boundary $\\partial\\Omega$ in the four sides of the square $\\Omega$, we have\n",
        "\\begin{equation*}\n",
        "\\begin{cases}\n",
        "g_1(y) = g(0, y) := u_{\\text{ex}}(0, y) = 0, & \\text{on } \\Gamma_1 = \\left\\{0\\right\\} \\times [0, 1],\\\\\n",
        "g_2(x) = g(x, 0) := u_{\\text{ex}}(x, 0) = \\sin(2 \\pi x), & \\text{on } \\Gamma_2 = [0, 1] \\times \\left\\{0\\right\\},\\\\\n",
        "g_3(y) = g(1, y) := u_{\\text{ex}}(1, y) = 0, & \\text{on } \\Gamma_3 = \\left\\{1\\right\\} \\times [0, 1],\\\\\n",
        "g_4(y) = g(x, 1) := u_{\\text{ex}}(x, 1) = \\sin(2 \\pi x), & \\text{on } \\Gamma_4 = [0, 1] \\times \\left\\{1\\right\\},\\\\\n",
        "\\end{cases}\n",
        "\\end{equation*}"
      ]
    },
    {
      "cell_type": "markdown",
      "metadata": {
        "id": "M52lSSOmXzuw"
      },
      "source": [
        "We want to generate a structured triangular mesh of the domain Ω, dividing both the horizontal and vertical sides of the square in n equispaced subintervals. The function should also locate boundaries Γ1,Γ2,Γ3 and Γ4.\n",
        "\n",
        "We write the function unit_square_structured_mesh(n) using the builtin dolfinx.mesh.create_unit_square structured mesh generator and the boundary marking through four calls to dolfinx.mesh.locate_entities_boundary."
      ]
    },
    {
      "cell_type": "markdown",
      "metadata": {
        "id": "BNH5UaXmZnBm"
      },
      "source": [
        "First we require a few more imports."
      ]
    },
    {
      "cell_type": "code",
      "execution_count": 20,
      "metadata": {
        "id": "VX37nR3yXydC"
      },
      "outputs": [],
      "source": [
        "def unit_square_structured_mesh(n: int) -> tuple[dolfinx.mesh.Mesh, dict[int, np.ndarray]]:\n",
        "    \"\"\"Generate a structured mesh of the unit square, and locate its four boundaries.\"\"\"\n",
        "    # Generate structured mesh\n",
        "    mesh = dolfinx.mesh.create_unit_square(mpi4py.MPI.COMM_WORLD, n, n)\n",
        "\n",
        "    # Locate boundary entities\n",
        "    boundary_entities = {\n",
        "        1: dolfinx.mesh.locate_entities_boundary(mesh, mesh.topology.dim - 1, lambda x: np.isclose(x[0], 0.0)),\n",
        "        2: dolfinx.mesh.locate_entities_boundary(mesh, mesh.topology.dim - 1, lambda x: np.isclose(x[1], 0.0)),\n",
        "        3: dolfinx.mesh.locate_entities_boundary(mesh, mesh.topology.dim - 1, lambda x: np.isclose(x[0], 1.0)),\n",
        "        4: dolfinx.mesh.locate_entities_boundary(mesh, mesh.topology.dim - 1, lambda x: np.isclose(x[1], 1.0))\n",
        "    }\n",
        "\n",
        "    # Collect boundary entities in a MeshTags object\n",
        "    boundary_entities_unsorted = np.hstack([boundary_entities[i] for i in range(1, 5)]).astype(np.int32)\n",
        "    boundary_values_unsorted = np.hstack([i * np.ones_like(boundary_entities[i]) for i in range(1, 5)]).astype(np.int32)\n",
        "    boundary_entities_argsort = np.argsort(boundary_entities_unsorted)\n",
        "    boundary_entities_sorted = boundary_entities_unsorted[boundary_entities_argsort]\n",
        "    boundary_values_sorted = boundary_values_unsorted[boundary_entities_argsort]\n",
        "    boundaries = dolfinx.mesh.meshtags(mesh, mesh.topology.dim - 1, boundary_entities_sorted, boundary_values_sorted)\n",
        "\n",
        "    # Return\n",
        "    return mesh, boundaries"
      ]
    },
    {
      "cell_type": "markdown",
      "metadata": {
        "id": "Fsa3DhSrKYI5"
      },
      "source": [
        "We test the implementation on the case $n = 10$, visualizing the resulting mesh and boundary labels."
      ]
    },
    {
      "cell_type": "code",
      "execution_count": 21,
      "metadata": {
        "id": "vnCpAZWPKXmV"
      },
      "outputs": [
        {
          "data": {
            "application/vnd.jupyter.widget-view+json": {
              "model_id": "ed5b80abf2a34950ae18c129b35578c3",
              "version_major": 2,
              "version_minor": 0
            },
            "text/plain": [
              "Widget(value='<iframe src=\"http://localhost:36453/index.html?ui=P_0x71506049b9e0_4&reconnect=auto\" class=\"pyvi…"
            ]
          },
          "metadata": {},
          "output_type": "display_data"
        }
      ],
      "source": [
        "mesh_10, boundaries_10 = unit_square_structured_mesh(10)\n",
        "\n",
        "viskex.dolfinx.plot_mesh(mesh_10)"
      ]
    },
    {
      "cell_type": "markdown",
      "metadata": {
        "id": "OsAczWVoZX2g"
      },
      "source": [
        "Next we write the function `unit_square_poisson_solve(mesh, boundaries, order)` combining the usual steps that we carry out when solving a finite element problem with FEniCS: (i) definition of a finite element space, (ii) definition of the weak form, (iii) definition of the boundary conditions, (iv) linear system assembly, and (v) linear system solve.\n",
        "\n",
        "For the solving fase, we access the library KSP of linear system solvers from PETSc"
      ]
    },
    {
      "cell_type": "code",
      "execution_count": 22,
      "metadata": {
        "id": "Fn35gtdmZSwA"
      },
      "outputs": [],
      "source": [
        "def unit_square_poisson_solve(\n",
        "    mesh: dolfinx.mesh.Mesh, boundaries: dict[int, np.ndarray], order: int\n",
        ") -> tuple[dolfinx.fem.FunctionSpace, petsc4py.PETSc.Mat, dolfinx.fem.Function]:\n",
        "    \n",
        "    \"\"\"Solve a Poisson problem on the unit square.\"\"\"\n",
        "    # Function space\n",
        "    Vh = dolfinx.fem.functionspace(mesh, (\"Lagrange\", order))\n",
        "\n",
        "    # Weak form\n",
        "    uh = ufl.TrialFunction(Vh)\n",
        "    vh = ufl.TestFunction(Vh)\n",
        "    x = ufl.SpatialCoordinate(mesh)\n",
        "    f = 8 * ufl.pi**2 * ufl.sin(2 * ufl.pi * x[0]) * ufl.cos(2 * ufl.pi * x[1])\n",
        "    \n",
        "    dx = ufl.dx\n",
        "    inner = ufl.inner\n",
        "    grad = ufl.grad\n",
        "    a = inner(grad(uh), grad(vh)) * dx\n",
        "    F = f * vh * dx\n",
        "\n",
        "    # Boundary conditions\n",
        "    boundary_value = dolfinx.fem.Function(Vh)\n",
        "    boundary_value.interpolate(lambda x: np.sin(2 * np.pi * x[0]))\n",
        "    zero = dolfinx.fem.Constant(mesh, 0.0)\n",
        "\n",
        "    boundary_dofs = {\n",
        "        i: dolfinx.fem.locate_dofs_topological(\n",
        "            Vh, mesh.topology.dim - 1, boundaries.indices[boundaries.values == i]) for i in range(1, 5)}\n",
        "\n",
        "    bcs = [\n",
        "        dolfinx.fem.dirichletbc(zero, boundary_dofs[1], Vh),\n",
        "        dolfinx.fem.dirichletbc(boundary_value, boundary_dofs[2]),\n",
        "        dolfinx.fem.dirichletbc(zero, boundary_dofs[3], Vh),\n",
        "        dolfinx.fem.dirichletbc(boundary_value, boundary_dofs[4])]\n",
        "\n",
        "    # Assemble system\n",
        "    a_cpp = dolfinx.fem.form(a)\n",
        "    F_cpp = dolfinx.fem.form(F)\n",
        "    A = dolfinx.fem.petsc.assemble_matrix(a_cpp, bcs)\n",
        "    A.assemble()\n",
        "    b = dolfinx.fem.petsc.assemble_vector(F_cpp)\n",
        "    dolfinx.fem.petsc.apply_lifting(b, [a_cpp], [bcs])\n",
        "    dolfinx.fem.petsc.set_bc(b, bcs)\n",
        "\n",
        "    # Solve\n",
        "    solution = dolfinx.fem.Function(Vh)\n",
        "    ksp = petsc4py.PETSc.KSP()\n",
        "    ksp.create(mesh.comm)\n",
        "    ksp.setOperators(A)\n",
        "    ksp.setType(\"preonly\")\n",
        "    ksp.getPC().setType(\"lu\")\n",
        "    ksp.getPC().setFactorSolverType(\"mumps\")\n",
        "    ksp.setFromOptions()\n",
        "    ksp.solve(b, solution.vector)\n",
        "\n",
        "    # Return\n",
        "    return Vh, A, solution"
      ]
    },
    {
      "cell_type": "markdown",
      "metadata": {
        "id": "ErNq4I5Taf20"
      },
      "source": [
        "Let's test it"
      ]
    },
    {
      "cell_type": "code",
      "execution_count": 23,
      "metadata": {
        "id": "aIhSK9UJH3Ch"
      },
      "outputs": [],
      "source": [
        "_, A_10, solution_10 = unit_square_poisson_solve(mesh_10, boundaries_10, 1)"
      ]
    },
    {
      "cell_type": "markdown",
      "metadata": {
        "id": "LD2lLvZba3Vl"
      },
      "source": [
        "Finally, the main task: computing errors.\n",
        "\n",
        "To this end, we write a function `unit_square_solution_error(mesh, solution, space)` that computes the norm of the error between a finite element solution and the exact solution to the Poisson problem on the domain $\\Omega$. The first input argument `mesh` contains the mesh of $\\Omega$, the second input argument `solution` contains the finite element solution, while the norm definition is derived from the third input argument `space` (if `space == 0`, the $L^2(\\Omega) = H^0(\\Omega)$ norm is used, while if `space == 1` the $H^1(\\Omega)$ norm is used).\n",
        "\n",
        "The function implments the following steps: (i) definition of the exact solution, (ii) computation of the difference between the finite element solution and the exact solution, (iii) representation of the square of norm of the error in `ufl`, (iv) evaluation of the square of norm of the error by assembling the `ufl` representation, and (v) application of a square root (do not forget this!) to get the error from its square."
      ]
    },
    {
      "cell_type": "code",
      "execution_count": 24,
      "metadata": {
        "id": "68J1imsNbKzu"
      },
      "outputs": [],
      "source": [
        "def unit_square_solution_error(\n",
        "    mesh: dolfinx.mesh.Mesh, solution: dolfinx.fem.Function, space: int\n",
        ") -> float:\n",
        "    \"\"\"Compute the error between the FE solution and the exact solution.\"\"\"\n",
        "    # Definition of the exact solution\n",
        "    x = ufl.SpatialCoordinate(mesh)\n",
        "    u_ex = ufl.sin(2 * ufl.pi * x[0]) * ufl.cos(2 * ufl.pi * x[1])\n",
        "\n",
        "    # Computation of the difference between the finite element solution and the exact solution\n",
        "    diff = solution - u_ex\n",
        "\n",
        "    # UFL representation of the square of the norm of the error depending on the input argument space\n",
        "    dx = ufl.dx\n",
        "    if space == 0:\n",
        "        eh_squared_ufl = diff * diff * dx\n",
        "    elif space == 1:\n",
        "        inner = ufl.inner\n",
        "        grad = ufl.grad\n",
        "        eh_squared_ufl = diff * diff * dx + inner(grad(diff), grad(diff)) * dx\n",
        "    else:\n",
        "        raise RuntimeError(\"Invalid space.\")\n",
        "\n",
        "    # Evaluation of the square of the norm of the error by assembling the UFL representation\n",
        "    eh_squared = dolfinx.fem.assemble_scalar(dolfinx.fem.form(eh_squared_ufl))\n",
        "\n",
        "    # Compute the square root and return\n",
        "    return np.sqrt(eh_squared)"
      ]
    },
    {
      "cell_type": "markdown",
      "metadata": {
        "id": "2ciS6RiVbPQ9"
      },
      "source": [
        "We test the implementation on the solution we have obtained from the mesh with $n = 10$ and $\\mathbb{P}^1$ finite elements."
      ]
    },
    {
      "cell_type": "markdown",
      "metadata": {
        "id": "qYxR45T7bbUU"
      },
      "source": [
        "Here is the L2 error"
      ]
    },
    {
      "cell_type": "code",
      "execution_count": 25,
      "metadata": {
        "id": "5AE-D9_NbQGe"
      },
      "outputs": [
        {
          "data": {
            "text/plain": [
              "0.5398221030463016"
            ]
          },
          "execution_count": 25,
          "metadata": {},
          "output_type": "execute_result"
        }
      ],
      "source": [
        "unit_square_solution_error(mesh, solution, 0)"
      ]
    },
    {
      "cell_type": "markdown",
      "metadata": {
        "id": "kvCjdU04beBE"
      },
      "source": [
        "And the H1 error"
      ]
    },
    {
      "cell_type": "code",
      "execution_count": 26,
      "metadata": {
        "id": "fJcjqpB1bZwW"
      },
      "outputs": [
        {
          "data": {
            "text/plain": [
              "5.818933075573137"
            ]
          },
          "execution_count": 26,
          "metadata": {},
          "output_type": "execute_result"
        }
      ],
      "source": [
        "unit_square_solution_error(mesh, solution, 1)"
      ]
    },
    {
      "cell_type": "markdown",
      "metadata": {
        "id": "4cN1KSvIdP80"
      },
      "source": [
        "**Exercise 1:** Check the rate of convergence by running a series of experiments. (See, eg.  CP5)"
      ]
    },
    {
      "cell_type": "code",
      "execution_count": 27,
      "metadata": {},
      "outputs": [
        {
          "data": {
            "image/png": "[encoded data removed]",
            "text/plain": [
              "<Figure size 640x480 with 1 Axes>"
            ]
          },
          "metadata": {},
          "output_type": "display_data"
        },
        {
          "name": "stdout",
          "output_type": "stream",
          "text": [
            "Convergence rate for order 1: -0.981714384745131\n",
            "Convergence rate for order 2: -1.9797831726305384\n"
          ]
        }
      ],
      "source": [
        "import matplotlib.pyplot as plt\n",
        "\n",
        "def run_convergence_experiments(orders, mesh_sizes):\n",
        "    errors = {order: [] for order in orders}\n",
        "    ns = []\n",
        "\n",
        "    for n in mesh_sizes:\n",
        "        mesh, boundaries = unit_square_structured_mesh(n)\n",
        "        for order in orders:\n",
        "            Vh, A, solution = unit_square_poisson_solve(mesh, boundaries, order)\n",
        "            error = unit_square_solution_error(mesh, solution, space=1)\n",
        "            errors[order].append(error)\n",
        "\n",
        "        ns.append(n)\n",
        "\n",
        "    # Plot results\n",
        "    for order in orders:\n",
        "        plt.loglog(ns, errors[order], label=f\"Order {order}\")\n",
        "    \n",
        "    plt.xlabel(\"Mesh size (h)\")\n",
        "    plt.ylabel(\"Error\")\n",
        "    plt.legend()\n",
        "    plt.title(\"Convergence of FEM Solution\")\n",
        "    plt.show()\n",
        "    \n",
        "    # Compute convergence rates\n",
        "    for order in orders:\n",
        "        log_hs = np.log(ns)\n",
        "        log_errors = np.log(errors[order])\n",
        "        rates = np.polyfit(log_hs, log_errors, 1)\n",
        "        print(f\"Convergence rate for order {order}: {rates[0]}\")\n",
        "\n",
        "# Parameters\n",
        "orders = [1, 2]  # Polynomial orders to test\n",
        "mesh_sizes = [8, 16, 32, 64]  # Mesh sizes to test\n",
        "\n",
        "run_convergence_experiments(orders, mesh_sizes)"
      ]
    },
    {
      "cell_type": "markdown",
      "metadata": {
        "id": "_k_oWWpCLBM_"
      },
      "source": [
        "# Working with subdomains"
      ]
    },
    {
      "cell_type": "markdown",
      "metadata": {
        "id": "pdIpkRmtMffA"
      },
      "source": [
        "We now solve the same problem but with the forcing function given by:\n",
        "\n",
        "$$\n",
        "f(\\mathbf{x}) = \\begin{cases}\n",
        "50, & \\mathbf{x} \\in [0.2, 0.8]^2,\\\\\n",
        "1, & \\text{otherwise},\n",
        "\\end{cases}\n",
        "$$"
      ]
    },
    {
      "cell_type": "markdown",
      "metadata": {
        "id": "HNWURYx1NsdW"
      },
      "source": [
        "We shall code this using by defining two subdomains:\n",
        "$$\\Omega_2 = [0.2, 0.8]^2 \\quad \\text{and} \\quad \\Omega_1 = \\Omega \\setminus \\Omega_2$$\n",
        "\n",
        " In order to do so, we need to ensure that the mesh is aligned with the subdomains. For instance, we can take $n=m=10$:"
      ]
    },
    {
      "cell_type": "code",
      "execution_count": 28,
      "metadata": {
        "id": "9UA5SYccOXy-"
      },
      "outputs": [
        {
          "data": {
            "text/plain": [
              "200"
            ]
          },
          "execution_count": 28,
          "metadata": {},
          "output_type": "execute_result"
        }
      ],
      "source": [
        "n = 10\n",
        "m = 10\n",
        "mesh = dolfinx.mesh.create_unit_square(mpi4py.MPI.COMM_WORLD, n, m)\n",
        "\n",
        "num_cells = mesh.topology.index_map(tdim).size_local\n",
        "num_cells"
      ]
    },
    {
      "cell_type": "code",
      "execution_count": 29,
      "metadata": {
        "id": "aJKirouJOiZq"
      },
      "outputs": [
        {
          "data": {
            "application/vnd.jupyter.widget-view+json": {
              "model_id": "d332ebafd7b4410c8001feeb0019c1c1",
              "version_major": 2,
              "version_minor": 0
            },
            "text/plain": [
              "Widget(value='<iframe src=\"http://localhost:36453/index.html?ui=P_0x715060250c80_5&reconnect=auto\" class=\"pyvi…"
            ]
          },
          "metadata": {},
          "output_type": "display_data"
        }
      ],
      "source": [
        "viskex.dolfinx.plot_mesh(mesh)"
      ]
    },
    {
      "cell_type": "code",
      "execution_count": 30,
      "metadata": {
        "id": "Nc_S0bJNOwg-"
      },
      "outputs": [],
      "source": [
        "boundary_entities = dolfinx.mesh.locate_entities_boundary(mesh, fdim, lambda x: np.full((x.shape[1], ), True))\n",
        "#boundary_entities"
      ]
    },
    {
      "cell_type": "markdown",
      "metadata": {
        "id": "i1_BNXZwYxlE"
      },
      "source": [
        "**New Task:** Define the two subdomains $\\Omega_1$ and $\\Omega_2$ in view of the implementation of the forcing function $f$.\n",
        "\n",
        "*   mark $\\Omega_1$ and $\\Omega_2$ with labels `1` and `2`\n",
        "*   use the `dolfinx.mesh` function `locate_entities` to determine whether a cell is in $\\Omega_2$. This function checks each of the three vertices of the triangular cell, and locates all cells in which the provided condition is satisfied on all three vertices."
      ]
    },
    {
      "cell_type": "code",
      "execution_count": 31,
      "metadata": {
        "id": "lYVPmDpJaxet"
      },
      "outputs": [
        {
          "data": {
            "text/plain": [
              "array([ 22,  27,  32,  33,  38,  39,  44,  45,  46,  51,  52,  53,  58,\n",
              "        59,  60,  61,  66,  67,  68,  69,  74,  75,  76,  77,  78,  83,\n",
              "        84,  85,  86,  87,  92,  93,  94,  95,  96,  97, 102, 103, 104,\n",
              "       105, 106, 107, 112, 113, 114, 115, 116, 121, 122, 123, 124, 125,\n",
              "       130, 131, 132, 133, 138, 139, 140, 141, 146, 147, 148, 153, 154,\n",
              "       155, 160, 161, 166, 167, 172, 177], dtype=int32)"
            ]
          },
          "execution_count": 31,
          "metadata": {},
          "output_type": "execute_result"
        }
      ],
      "source": [
        "inner_subdomain_entities = dolfinx.mesh.locate_entities(\n",
        "    mesh, mesh.topology.dim, lambda x: np.logical_and(\n",
        "        np.logical_and(x[0] >= 0.2, x[0] <= 0.8),\n",
        "        np.logical_and(x[1] >= 0.2, x[1] <= 0.8)))\n",
        "inner_subdomain_entities"
      ]
    },
    {
      "cell_type": "markdown",
      "metadata": {
        "id": "TSV13ZuEiZf8"
      },
      "source": [
        "We label each cell in $\\Omega_2$ with the label `2` by using the `np.full` function which return a new array with shape of input filled with value."
      ]
    },
    {
      "cell_type": "code",
      "execution_count": 32,
      "metadata": {
        "id": "p0TrhbrEe-qh"
      },
      "outputs": [
        {
          "data": {
            "text/plain": [
              "array([2, 2, 2, 2, 2, 2, 2, 2, 2, 2, 2, 2, 2, 2, 2, 2, 2, 2, 2, 2, 2, 2,\n",
              "       2, 2, 2, 2, 2, 2, 2, 2, 2, 2, 2, 2, 2, 2, 2, 2, 2, 2, 2, 2, 2, 2,\n",
              "       2, 2, 2, 2, 2, 2, 2, 2, 2, 2, 2, 2, 2, 2, 2, 2, 2, 2, 2, 2, 2, 2,\n",
              "       2, 2, 2, 2, 2, 2], dtype=int32)"
            ]
          },
          "execution_count": 32,
          "metadata": {},
          "output_type": "execute_result"
        }
      ],
      "source": [
        "inner_subdomains_labels = np.full(inner_subdomain_entities.shape, 2, dtype=np.intc)\n",
        "inner_subdomains_labels"
      ]
    },
    {
      "cell_type": "markdown",
      "metadata": {
        "id": "VG7DBQ5wfYbj"
      },
      "source": [
        "The remaining cells will belong to $\\Omega_1$. Recall that in num_cells we have stored the total number of cells\n"
      ]
    },
    {
      "cell_type": "code",
      "execution_count": 33,
      "metadata": {
        "id": "6yYZG9FqfcbD"
      },
      "outputs": [
        {
          "data": {
            "text/plain": [
              "array([  0,   1,   2,   3,   4,   5,   6,   7,   8,   9,  10,  11,  12,\n",
              "        13,  14,  15,  16,  17,  18,  19,  20,  21,  23,  24,  25,  26,\n",
              "        28,  29,  30,  31,  34,  35,  36,  37,  40,  41,  42,  43,  47,\n",
              "        48,  49,  50,  54,  55,  56,  57,  62,  63,  64,  65,  70,  71,\n",
              "        72,  73,  79,  80,  81,  82,  88,  89,  90,  91,  98,  99, 100,\n",
              "       101, 108, 109, 110, 111, 117, 118, 119, 120, 126, 127, 128, 129,\n",
              "       134, 135, 136, 137, 142, 143, 144, 145, 149, 150, 151, 152, 156,\n",
              "       157, 158, 159, 162, 163, 164, 165, 168, 169, 170, 171, 173, 174,\n",
              "       175, 176, 178, 179, 180, 181, 182, 183, 184, 185, 186, 187, 188,\n",
              "       189, 190, 191, 192, 193, 194, 195, 196, 197, 198, 199])"
            ]
          },
          "execution_count": 33,
          "metadata": {},
          "output_type": "execute_result"
        }
      ],
      "source": [
        "outer_subdomain_entities = np.setdiff1d(np.arange(num_cells), inner_subdomain_entities)\n",
        "outer_subdomain_entities"
      ]
    },
    {
      "cell_type": "code",
      "execution_count": 34,
      "metadata": {
        "id": "Nc4fxsJLfzcJ"
      },
      "outputs": [
        {
          "data": {
            "text/plain": [
              "array([1, 1, 1, 1, 1, 1, 1, 1, 1, 1, 1, 1, 1, 1, 1, 1, 1, 1, 1, 1, 1, 1,\n",
              "       1, 1, 1, 1, 1, 1, 1, 1, 1, 1, 1, 1, 1, 1, 1, 1, 1, 1, 1, 1, 1, 1,\n",
              "       1, 1, 1, 1, 1, 1, 1, 1, 1, 1, 1, 1, 1, 1, 1, 1, 1, 1, 1, 1, 1, 1,\n",
              "       1, 1, 1, 1, 1, 1, 1, 1, 1, 1, 1, 1, 1, 1, 1, 1, 1, 1, 1, 1, 1, 1,\n",
              "       1, 1, 1, 1, 1, 1, 1, 1, 1, 1, 1, 1, 1, 1, 1, 1, 1, 1, 1, 1, 1, 1,\n",
              "       1, 1, 1, 1, 1, 1, 1, 1, 1, 1, 1, 1, 1, 1, 1, 1, 1, 1], dtype=int32)"
            ]
          },
          "execution_count": 34,
          "metadata": {},
          "output_type": "execute_result"
        }
      ],
      "source": [
        "outer_subdomains_labels = np.full(outer_subdomain_entities.shape, 1, dtype=np.intc)\n",
        "outer_subdomains_labels"
      ]
    },
    {
      "cell_type": "markdown",
      "metadata": {
        "id": "jM9Li2apbfzF"
      },
      "source": [
        "We then store both subdomains in a `dolfinx.mesh` `MeshTags` object."
      ]
    },
    {
      "cell_type": "code",
      "execution_count": 35,
      "metadata": {
        "id": "X5RpQDDNbgh2"
      },
      "outputs": [],
      "source": [
        "subdomains_entities_unsorted = np.hstack((outer_subdomain_entities, inner_subdomain_entities)).astype(np.int32)\n",
        "subdomains_values_unsorted = np.hstack((outer_subdomains_labels, inner_subdomains_labels)).astype(np.int32)\n",
        "subdomains_entities_argsort = np.argsort(subdomains_entities_unsorted)\n",
        "subdomains_entities_sorted = subdomains_entities_unsorted[subdomains_entities_argsort]\n",
        "subdomains_values_sorted = subdomains_values_unsorted[subdomains_entities_argsort]\n",
        "subdomains = dolfinx.mesh.meshtags(mesh, mesh.topology.dim, subdomains_entities_sorted, subdomains_values_sorted)"
      ]
    },
    {
      "cell_type": "markdown",
      "metadata": {
        "id": "ecBWYU0Gbqc-"
      },
      "source": [
        "We finally plot with `pyvista` the subdomains to verify the correct assignment of the label."
      ]
    },
    {
      "cell_type": "code",
      "execution_count": 36,
      "metadata": {
        "id": "pxuoZpcMbqBz"
      },
      "outputs": [
        {
          "data": {
            "application/vnd.jupyter.widget-view+json": {
              "model_id": "77160711ad6447af8ada85d45b01cec5",
              "version_major": 2,
              "version_minor": 0
            },
            "text/plain": [
              "Widget(value='<iframe src=\"http://localhost:36453/index.html?ui=P_0x71505b6a03e0_6&reconnect=auto\" class=\"pyvi…"
            ]
          },
          "metadata": {},
          "output_type": "display_data"
        }
      ],
      "source": [
        "viskex.dolfinx.plot_mesh_tags(mesh, subdomains, \"subdomains\")"
      ]
    },
    {
      "cell_type": "markdown",
      "metadata": {
        "id": "HWx3IFLIQxLI"
      },
      "source": [
        "Defining the FEM space is as before:"
      ]
    },
    {
      "cell_type": "code",
      "execution_count": 37,
      "metadata": {
        "id": "XjYuCIjDQ0z7"
      },
      "outputs": [
        {
          "data": {
            "text/plain": [
              "121"
            ]
          },
          "execution_count": 37,
          "metadata": {},
          "output_type": "execute_result"
        }
      ],
      "source": [
        "Vh = dolfinx.fem.functionspace(mesh, (\"Lagrange\", 1))\n",
        "\n",
        "Vh_dim = Vh.dofmap.index_map.size_local\n",
        "Vh_dim"
      ]
    },
    {
      "cell_type": "code",
      "execution_count": 38,
      "metadata": {
        "id": "LpwbJzkIQ6vQ"
      },
      "outputs": [],
      "source": [
        "uh = ufl.TrialFunction(Vh)\n",
        "vh = ufl.TestFunction(Vh)"
      ]
    },
    {
      "cell_type": "markdown",
      "metadata": {
        "id": "WHTEGxESn7Uq"
      },
      "source": [
        "In order to write this problem in `ufl`, we need to inform the integral measure `dx` of the subdomain labels, using `ufl.Measure` and providing as data the `subdomains` object that we have created."
      ]
    },
    {
      "cell_type": "code",
      "execution_count": 39,
      "metadata": {
        "id": "l8IKuU_WIY57"
      },
      "outputs": [],
      "source": [
        "dx = ufl.Measure(\"dx\")(subdomain_data=subdomains)"
      ]
    },
    {
      "cell_type": "markdown",
      "metadata": {
        "id": "CjWnyJz1n9AH"
      },
      "source": [
        "The bilinear form is straighforward:"
      ]
    },
    {
      "cell_type": "code",
      "execution_count": 40,
      "metadata": {
        "id": "ZhVaFywEKxPb"
      },
      "outputs": [],
      "source": [
        "inner = ufl.inner\n",
        "grad = ufl.grad\n",
        "A = inner(grad(uh), grad(vh)) * dx"
      ]
    },
    {
      "cell_type": "markdown",
      "metadata": {
        "id": "3TnngdU-VhXn"
      },
      "source": [
        "> We further define the linear functional\n",
        "> $$ F(v) = \\int_\\Omega f \\ v \\ \\mathrm{d}\\mathbf{x} = \\int_{\\Omega_1} v \\ \\mathrm{d}\\mathbf{x} + \\int_{\\Omega_2} 10 \\ v \\ \\mathrm{d}\\mathbf{x}.$$\n",
        "> In order to implement this in `ufl`, we use `dx(1)` to define integration over $\\Omega_1$, and similarly `dx(2)` to define integration over $\\Omega_2$."
      ]
    },
    {
      "cell_type": "code",
      "execution_count": 41,
      "metadata": {
        "id": "CzSrFjmXLT2z"
      },
      "outputs": [],
      "source": [
        "F = vh * dx(1) + 50 * vh * dx(0)"
      ]
    },
    {
      "cell_type": "markdown",
      "metadata": {
        "id": "hjtN_RU9LY9p"
      },
      "source": [
        "The rest is as before:"
      ]
    },
    {
      "cell_type": "code",
      "execution_count": 42,
      "metadata": {
        "id": "hpOGN-NCLbDV"
      },
      "outputs": [],
      "source": [
        "gh = dolfinx.fem.Function(Vh)\n",
        "gh.interpolate(lambda x: np.sin(3 * np.pi * x[0] + 1) * np.sin(3 * np.pi * x[1] + 1))\n",
        "\n",
        "boundary_dofs = dolfinx.fem.locate_dofs_topological(Vh, fdim, boundary_entities)\n",
        "bc = dolfinx.fem.dirichletbc(gh, boundary_dofs)\n",
        "\n",
        "solution = dolfinx.fem.Function(Vh)\n",
        "\n",
        "problem = dolfinx.fem.petsc.LinearProblem(\n",
        "    A, F, bcs=[bc], u=solution,\n",
        "    petsc_options={\"ksp_type\": \"preonly\", \"pc_type\": \"lu\", \"pc_factor_mat_solver_type\": \"mumps\"})\n",
        "_ = problem.solve()"
      ]
    },
    {
      "cell_type": "code",
      "execution_count": 43,
      "metadata": {
        "id": "b9VKGEB4L7xg"
      },
      "outputs": [
        {
          "data": {
            "application/vnd.jupyter.widget-view+json": {
              "model_id": "2923220110f54c4c86d7ca4f50f95269",
              "version_major": 2,
              "version_minor": 0
            },
            "text/plain": [
              "Widget(value='<iframe src=\"http://localhost:36453/index.html?ui=P_0x7150600f8470_7&reconnect=auto\" class=\"pyvi…"
            ]
          },
          "metadata": {},
          "output_type": "display_data"
        }
      ],
      "source": [
        "viskex.dolfinx.plot_scalar_field(solution, \"u_h\")"
      ]
    },
    {
      "cell_type": "code",
      "execution_count": 44,
      "metadata": {},
      "outputs": [
        {
          "data": {
            "application/vnd.jupyter.widget-view+json": {
              "model_id": "13e80da8a21c4955a00a0cb6d5a03852",
              "version_major": 2,
              "version_minor": 0
            },
            "text/plain": [
              "Widget(value='<iframe src=\"http://localhost:36453/index.html?ui=P_0x7150600d8bf0_8&reconnect=auto\" class=\"pyvi…"
            ]
          },
          "metadata": {},
          "output_type": "display_data"
        }
      ],
      "source": [
        "viskex.dolfinx.plot_scalar_field(solution, \"u_h\", warp_factor=0.1)"
      ]
    },
    {
      "cell_type": "markdown",
      "metadata": {
        "id": "MiVeXHdlRjtE"
      },
      "source": [
        "**Exercise 2:** Use the subdomain idea to solve the problem: find $u: \\Omega = (0, 1)^2 \\to \\mathbb{R}$ such that\n",
        "\n",
        "\\begin{equation*}\n",
        "\\begin{cases}\n",
        "- \\nabla (\\kappa \\nabla u) = f, & \\text{in } \\Omega,\\\\\n",
        "u = g, & \\text{on } \\partial\\Omega.\n",
        "\\end{cases}\n",
        "\\end{equation*}\n",
        "with $f$  and $g$ as before and\n",
        "$$\n",
        "\\kappa(\\mathbf{x}) = \\begin{cases}\n",
        "1, & \\mathbf{x} \\in [0.2, 0.8]^2,\\\\\n",
        "0.1, & \\text{otherwise},\n",
        "\\end{cases}\n",
        "$$\n"
      ]
    },
    {
      "cell_type": "code",
      "execution_count": 148,
      "metadata": {},
      "outputs": [],
      "source": [
        "# Create mesh\n",
        "n = 40\n",
        "m = 40\n",
        "mesh = dolfinx.mesh.create_unit_square(mpi4py.MPI.COMM_WORLD, n, m)\n",
        "\n",
        "# Locate the inner subdomain entities\n",
        "inner_subdomain_entities = dolfinx.mesh.locate_entities(\n",
        "    mesh, mesh.topology.dim, lambda x: np.logical_and(\n",
        "        np.logical_and(x[0] >= 0.2, x[0] <= 0.8),\n",
        "        np.logical_and(x[1] >= 0.2, x[1] <= 0.8)))\n",
        "\n",
        "# Label the inner subdomain with 2\n",
        "inner_subdomains_labels = np.full(inner_subdomain_entities.shape, 2, dtype=np.intc)\n",
        "\n",
        "# Label the outer subdomain with 1\n",
        "num_cells = mesh.topology.index_map(mesh.topology.dim).size_local\n",
        "outer_subdomain_entities = np.setdiff1d(np.arange(num_cells), inner_subdomain_entities)\n",
        "outer_subdomains_labels = np.full(outer_subdomain_entities.shape, 1, dtype=np.intc)\n",
        "\n",
        "# Create a MeshTags object for subdomains\n",
        "subdomains_entities_unsorted = np.hstack((outer_subdomain_entities, inner_subdomain_entities)).astype(np.int32)\n",
        "subdomains_values_unsorted = np.hstack((outer_subdomains_labels, inner_subdomains_labels)).astype(np.int32)\n",
        "subdomains_entities_argsort = np.argsort(subdomains_entities_unsorted)\n",
        "subdomains_entities_sorted = subdomains_entities_unsorted[subdomains_entities_argsort]\n",
        "subdomains_values_sorted = subdomains_values_unsorted[subdomains_entities_argsort]\n",
        "subdomains = dolfinx.mesh.meshtags(mesh, mesh.topology.dim, subdomains_entities_sorted, subdomains_values_sorted)"
      ]
    },
    {
      "cell_type": "code",
      "execution_count": 149,
      "metadata": {},
      "outputs": [],
      "source": [
        "# Define function space\n",
        "Vh = dolfinx.fem.functionspace(mesh, (\"Lagrange\", 1))\n",
        "\n",
        "# Define trial and test functions\n",
        "uh = ufl.TrialFunction(Vh)\n",
        "vh = ufl.TestFunction(Vh)\n",
        "\n",
        "# Create a function for kappa and assign values based on subdomains\n",
        "kappa = dolfinx.fem.Function(Vh)\n",
        "with kappa.vector.localForm() as local:\n",
        "    local.set(0.1)\n",
        "for i in range(inner_subdomain_entities.size):\n",
        "    for j in Vh.dofmap.cell_dofs(inner_subdomain_entities[i]):\n",
        "        kappa.vector[j] = 1.0\n",
        "\n",
        "# Define the weak form\n",
        "f = 8 * ufl.pi**2 * ufl.sin(2 * ufl.pi * ufl.SpatialCoordinate(mesh)[0]) * ufl.cos(2 * ufl.pi * ufl.SpatialCoordinate(mesh)[1])\n",
        "a = ufl.inner(kappa * ufl.grad(uh), ufl.grad(vh)) * ufl.dx\n",
        "#F = f * vh * ufl.dx\n",
        "F = vh * dx(1) + 50 * vh * dx(0)"
      ]
    },
    {
      "cell_type": "code",
      "execution_count": 150,
      "metadata": {},
      "outputs": [],
      "source": [
        "# Define the boundary condition function\n",
        "gh = dolfinx.fem.Function(Vh)\n",
        "gh.interpolate(lambda x: np.sin(3 * np.pi * x[0] + 1) * np.sin(3 * np.pi * x[1] + 1))\n",
        "\n",
        "# Locate boundary entities\n",
        "boundary_entities = dolfinx.mesh.locate_entities_boundary(\n",
        "    mesh, mesh.topology.dim - 1, lambda x: np.full((x.shape[1], ), True))\n",
        "\n",
        "# Locate boundary dofs\n",
        "boundary_dofs = dolfinx.fem.locate_dofs_topological(Vh, mesh.topology.dim - 1, boundary_entities)\n",
        "\n",
        "# Define the Dirichlet boundary condition\n",
        "bc = dolfinx.fem.dirichletbc(gh, boundary_dofs)"
      ]
    },
    {
      "cell_type": "code",
      "execution_count": 151,
      "metadata": {},
      "outputs": [],
      "source": [
        "# Solve the problem\n",
        "solution = dolfinx.fem.Function(Vh)\n",
        "problem = dolfinx.fem.petsc.LinearProblem(\n",
        "    a, F, bcs=[bc], u=solution,\n",
        "    petsc_options={\"ksp_type\": \"preonly\", \"pc_type\": \"lu\", \"pc_factor_mat_solver_type\": \"mumps\"})\n",
        "_ = problem.solve()"
      ]
    },
    {
      "cell_type": "code",
      "execution_count": 152,
      "metadata": {},
      "outputs": [
        {
          "data": {
            "application/vnd.jupyter.widget-view+json": {
              "model_id": "b235eff52f55461baa744f834b8b6d2d",
              "version_major": 2,
              "version_minor": 0
            },
            "text/plain": [
              "Widget(value='<iframe src=\"http://localhost:37169/index.html?ui=P_0x7902f0faecc0_43&reconnect=auto\" class=\"pyv…"
            ]
          },
          "metadata": {},
          "output_type": "display_data"
        }
      ],
      "source": [
        "viskex.dolfinx.plot_scalar_field(solution, \"u_h\")"
      ]
    },
    {
      "cell_type": "code",
      "execution_count": 153,
      "metadata": {},
      "outputs": [
        {
          "data": {
            "application/vnd.jupyter.widget-view+json": {
              "model_id": "1869df22d2c042c78b8bfd7e7e0ca0c1",
              "version_major": 2,
              "version_minor": 0
            },
            "text/plain": [
              "Widget(value='<iframe src=\"http://localhost:37169/index.html?ui=P_0x7902f0ff07d0_44&reconnect=auto\" class=\"pyv…"
            ]
          },
          "metadata": {},
          "output_type": "display_data"
        }
      ],
      "source": [
        "viskex.dolfinx.plot_scalar_field(solution, \"u_h\", warp_factor=0.1)"
      ]
    },
    {
      "cell_type": "markdown",
      "metadata": {
        "id": "ZpKMz1KsSniE"
      },
      "source": [
        "**Exercise 3:** By yourself or using the official tutorial\n",
        "\n",
        "https://jorgensd.github.io/dolfinx-tutorial/index.html\n",
        "\n",
        "as reference, find out how to use the subdomain idea to define different boundary conditions. For instance, solve with:\n",
        "$$\n",
        "u = g \\quad\\text{if } \\quad x=0 \\quad \\text{or}\\quad  x=1,\n",
        "$$\n",
        "and\n",
        "$$\n",
        "-\\frac{\\partial u}{\\partial {\\mathbf n}} = h \\quad \\text{otherwise}.\n",
        "$$\n",
        "with\n",
        "$$\n",
        "h(x,y)=\n",
        "\\left\\{\n",
        "\\begin{array}{ll}\n",
        "0 & \\text{if } y=0\\\\\n",
        "-4 & \\text{if } y=1.\n",
        "\\end{array}\n",
        "\\right.\n",
        "$$\n",
        "\n"
      ]
    },
    {
      "cell_type": "code",
      "execution_count": 154,
      "metadata": {},
      "outputs": [],
      "source": [
        "# Define the mesh\n",
        "n = 20\n",
        "m = 20\n",
        "mesh = dolfinx.mesh.create_unit_square(mpi4py.MPI.COMM_WORLD, n, m)\n",
        "\n",
        "# Define the subdomains\n",
        "tdim = mesh.topology.dim\n",
        "fdim = tdim - 1\n",
        "num_cells = mesh.topology.index_map(tdim).size_local\n",
        "boundary_entities = dolfinx.mesh.locate_entities_boundary(mesh, fdim, lambda x: np.full((x.shape[1], ), True))\n",
        "\n",
        "inner_subdomain_entities = dolfinx.mesh.locate_entities(\n",
        "    mesh, mesh.topology.dim, lambda x: np.logical_and(\n",
        "        np.logical_and(x[0] >= 0.2, x[0] <= 0.8),\n",
        "        np.logical_and(x[1] >= 0.2, x[1] <= 0.8)))\n",
        "\n",
        "inner_subdomains_labels = np.full(inner_subdomain_entities.shape, 2, dtype=np.intc)\n",
        "outer_subdomain_entities = np.setdiff1d(np.arange(num_cells), inner_subdomain_entities)\n",
        "outer_subdomains_labels = np.full(outer_subdomain_entities.shape, 1, dtype=np.intc)\n",
        "\n",
        "subdomains_entities_unsorted = np.hstack((outer_subdomain_entities, inner_subdomain_entities)).astype(np.int32)\n",
        "subdomains_values_unsorted = np.hstack((outer_subdomains_labels, inner_subdomains_labels)).astype(np.int32)\n",
        "subdomains_entities_argsort = np.argsort(subdomains_entities_unsorted)\n",
        "subdomains_entities_sorted = subdomains_entities_unsorted[subdomains_entities_argsort]\n",
        "subdomains_values_sorted = subdomains_values_unsorted[subdomains_entities_argsort]\n",
        "subdomains = dolfinx.mesh.meshtags(mesh, mesh.topology.dim, subdomains_entities_sorted, subdomains_values_sorted)\n",
        "\n",
        "# Define the function space\n",
        "Vh = dolfinx.fem.functionspace(mesh, (\"Lagrange\", 1))\n",
        "\n",
        "# Define the trial and test functions\n",
        "uh = ufl.TrialFunction(Vh)\n",
        "vh = ufl.TestFunction(Vh)\n",
        "\n",
        "# Define the integral measure\n",
        "dx = ufl.Measure(\"dx\")(subdomain_data=subdomains)\n",
        "\n",
        "# Define the bilinear form\n",
        "A = ufl.inner(ufl.grad(uh), ufl.grad(vh)) * dx\n",
        "\n",
        "# Define the linear functional\n",
        "F = vh * dx(1) + 50 * vh * dx(2)\n",
        "\n",
        "# Define the boundary condition\n",
        "gh = dolfinx.fem.Function(Vh)\n",
        "gh.interpolate(lambda x: np.sin(3 * np.pi * x[0] + 1) * np.sin(3 * np.pi * x[1] + 1))\n",
        "boundary_dofs = dolfinx.fem.locate_dofs_topological(Vh, fdim, boundary_entities)\n",
        "bc = dolfinx.fem.dirichletbc(gh, boundary_dofs)\n",
        "\n",
        "# Solve the problem\n",
        "solution = dolfinx.fem.Function(Vh)\n",
        "problem = dolfinx.fem.petsc.LinearProblem(\n",
        "    A, F, bcs=[bc], u=solution,\n",
        "    petsc_options={\"ksp_type\": \"preonly\", \"pc_type\": \"lu\", \"pc_factor_mat_solver_type\": \"mumps\"})\n",
        "_ = problem.solve()"
      ]
    },
    {
      "cell_type": "code",
      "execution_count": 155,
      "metadata": {},
      "outputs": [
        {
          "data": {
            "application/vnd.jupyter.widget-view+json": {
              "model_id": "2eb86ce3eadd4bf99aabab28c825cd6d",
              "version_major": 2,
              "version_minor": 0
            },
            "text/plain": [
              "Widget(value='<iframe src=\"http://localhost:37169/index.html?ui=P_0x7902f18ea540_45&reconnect=auto\" class=\"pyv…"
            ]
          },
          "metadata": {},
          "output_type": "display_data"
        }
      ],
      "source": [
        "viskex.dolfinx.plot_scalar_field(solution, \"u_h\")"
      ]
    },
    {
      "cell_type": "code",
      "execution_count": 156,
      "metadata": {},
      "outputs": [
        {
          "data": {
            "application/vnd.jupyter.widget-view+json": {
              "model_id": "ccbf1096d8c041769dc4b54eb3889a5b",
              "version_major": 2,
              "version_minor": 0
            },
            "text/plain": [
              "Widget(value='<iframe src=\"http://localhost:37169/index.html?ui=P_0x7902f0f96cf0_46&reconnect=auto\" class=\"pyv…"
            ]
          },
          "metadata": {},
          "output_type": "display_data"
        }
      ],
      "source": [
        "viskex.dolfinx.plot_scalar_field(solution, \"u_h\", warp_factor=0.1)"
      ]
    },
    {
      "cell_type": "code",
      "execution_count": 193,
      "metadata": {},
      "outputs": [],
      "source": [
        "# Define the mesh\n",
        "n = 30\n",
        "m = 30\n",
        "mesh = dolfinx.mesh.create_unit_square(mpi4py.MPI.COMM_WORLD, n, m)\n",
        "\n",
        "# Define the subdomains\n",
        "tdim = mesh.topology.dim\n",
        "fdim = tdim - 1\n",
        "num_cells = mesh.topology.index_map(tdim).size_local\n",
        "\n",
        "# Define the inner subdomain\n",
        "inner_subdomain_entities = dolfinx.mesh.locate_entities(\n",
        "    mesh, mesh.topology.dim, lambda x: np.logical_and(\n",
        "        np.logical_and(x[0] >= 0.2, x[0] <= 0.8),\n",
        "        np.logical_and(x[1] >= 0.2, x[1] <= 0.8)))\n",
        "\n",
        "inner_subdomains_labels = np.full(inner_subdomain_entities.shape, 2, dtype=np.intc)\n",
        "outer_subdomain_entities = np.setdiff1d(np.arange(num_cells), inner_subdomain_entities)\n",
        "outer_subdomains_labels = np.full(outer_subdomain_entities.shape, 1, dtype=np.intc)\n",
        "\n",
        "subdomains_entities_unsorted = np.hstack((outer_subdomain_entities, inner_subdomain_entities)).astype(np.int32)\n",
        "subdomains_values_unsorted = np.hstack((outer_subdomains_labels, inner_subdomains_labels)).astype(np.int32)\n",
        "subdomains_entities_argsort = np.argsort(subdomains_entities_unsorted)\n",
        "subdomains_entities_sorted = subdomains_entities_unsorted[subdomains_entities_argsort]\n",
        "subdomains_values_sorted = subdomains_values_unsorted[subdomains_entities_argsort]\n",
        "subdomains = dolfinx.mesh.meshtags(mesh, mesh.topology.dim, subdomains_entities_sorted, subdomains_values_sorted)\n",
        "\n",
        "# function space\n",
        "Vh = dolfinx.fem.functionspace(mesh, (\"Lagrange\", 1))\n",
        "\n",
        "# trial and test functions\n",
        "uh = ufl.TrialFunction(Vh)\n",
        "vh = ufl.TestFunction(Vh)\n",
        "\n",
        "# integral measure\n",
        "dx = ufl.Measure(\"dx\")(subdomain_data=subdomains)\n",
        "\n",
        "# Create a function for kappa and assign values based on subdomains\n",
        "kappa = dolfinx.fem.Function(Vh)\n",
        "with kappa.vector.localForm() as local:\n",
        "    local.set(0.1)\n",
        "for i in range(inner_subdomain_entities.size):\n",
        "    for j in Vh.dofmap.cell_dofs(inner_subdomain_entities[i]):\n",
        "        kappa.vector[j] = 1.0\n",
        "\n",
        "# bilinear form\n",
        "A = ufl.inner(kappa * ufl.grad(uh), ufl.grad(vh)) * dx\n",
        "\n",
        "# linear functional\n",
        "F = vh * dx(1) + 50 * vh * dx(2)\n",
        "\n",
        "# boundary condition\n",
        "gh = dolfinx.fem.Function(Vh)\n",
        "gh.interpolate(lambda x: np.sin(3 * np.pi * x[0] + 1) * np.sin(3 * np.pi * x[1] + 1))\n",
        "\n",
        "boundary_entities_x0x1 = dolfinx.mesh.locate_entities_boundary(mesh, fdim, lambda x: np.logical_or(np.isclose(x[0], 0), np.isclose(x[0], 1)))\n",
        "boundary_dofs_x0x1 = dolfinx.fem.locate_dofs_topological(Vh, fdim, boundary_entities_x0x1)\n",
        "bc_x0x1 = dolfinx.fem.dirichletbc(gh, boundary_dofs_x0x1)\n",
        "\n",
        "# Neumann boundary conditions\n",
        "ds = ufl.Measure(\"ds\", domain=mesh)\n",
        "x = ufl.SpatialCoordinate(mesh)\n",
        "h_bottom = ufl.conditional(ufl.lt(x[1], 1e-14), 0.0, 0.0)  # h = 0 on y = 0\n",
        "h_top = ufl.conditional(ufl.gt(x[1], 1.0 - 1e-14), -4.0, 0.0)  # h = -4 on y = 1\n",
        "h = h_bottom + h_top\n",
        "\n",
        "neumann_boundary_terms = h * vh * ds\n",
        "\n",
        "# Solve\n",
        "L = F + neumann_boundary_terms\n",
        "\n",
        "solution = dolfinx.fem.Function(Vh)\n",
        "problem = dolfinx.fem.petsc.LinearProblem(\n",
        "    A, L, bcs=[bc_x0x1], u=solution,\n",
        "    petsc_options={\"ksp_type\": \"preonly\", \"pc_type\": \"lu\", \"pc_factor_mat_solver_type\": \"mumps\"})\n",
        "_ = problem.solve()\n"
      ]
    },
    {
      "cell_type": "code",
      "execution_count": 194,
      "metadata": {},
      "outputs": [
        {
          "data": {
            "application/vnd.jupyter.widget-view+json": {
              "model_id": "4e9d2e0c7a1c42c59a4c3f8a9d69b387",
              "version_major": 2,
              "version_minor": 0
            },
            "text/plain": [
              "Widget(value='<iframe src=\"http://localhost:37169/index.html?ui=P_0x7902f0fad010_71&reconnect=auto\" class=\"pyv…"
            ]
          },
          "metadata": {},
          "output_type": "display_data"
        }
      ],
      "source": [
        "viskex.dolfinx.plot_scalar_field(solution, \"u_h\")"
      ]
    },
    {
      "cell_type": "code",
      "execution_count": 195,
      "metadata": {},
      "outputs": [
        {
          "data": {
            "application/vnd.jupyter.widget-view+json": {
              "model_id": "1ab45b964fc745969592bb0c852ab16d",
              "version_major": 2,
              "version_minor": 0
            },
            "text/plain": [
              "Widget(value='<iframe src=\"http://localhost:37169/index.html?ui=P_0x7902f0ff3c80_72&reconnect=auto\" class=\"pyv…"
            ]
          },
          "metadata": {},
          "output_type": "display_data"
        }
      ],
      "source": [
        "viskex.dolfinx.plot_scalar_field(solution, \"u_h\", warp_factor=0.1)"
      ]
    },
    {
      "cell_type": "code",
      "execution_count": null,
      "metadata": {},
      "outputs": [],
      "source": []
    }
  ],
  "metadata": {
    "colab": {
      "authorship_tag": "ABX9TyMWXMNr5v3vo3T+AEcKJV+v",
      "include_colab_link": true,
      "provenance": []
    },
    "kernelspec": {
      "display_name": "Python 3",
      "name": "python3"
    },
    "language_info": {
      "codemirror_mode": {
        "name": "ipython",
        "version": 3
      },
      "file_extension": ".py",
      "mimetype": "text/x-python",
      "name": "python",
      "nbconvert_exporter": "python",
      "pygments_lexer": "ipython3",
      "version": "3.12.4"
    }
  },
  "nbformat": 4,
  "nbformat_minor": 0
}
