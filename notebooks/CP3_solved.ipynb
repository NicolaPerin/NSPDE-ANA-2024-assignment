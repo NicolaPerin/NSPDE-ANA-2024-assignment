{
  "cells": [
    {
      "cell_type": "markdown",
      "metadata": {
        "colab_type": "text",
        "id": "view-in-github"
      },
      "source": [
        "<a href=\"https://colab.research.google.com/github/andreacangiani/NSPDE-ANA2024/blob/main/Python/CP3_worked.ipynb\" target=\"_parent\"><img src=\"https://colab.research.google.com/assets/colab-badge.svg\" alt=\"Open In Colab\"/></a>"
      ]
    },
    {
      "cell_type": "markdown",
      "metadata": {
        "id": "EYPTFFAQN3BY"
      },
      "source": [
        "# Assignment 3"
      ]
    },
    {
      "cell_type": "markdown",
      "metadata": {
        "id": "VXF0WBPFNRtO"
      },
      "source": [
        "1. Finite Difference solver for the reaction-advection-diffusion problem with nonconstant coefficients:\n",
        "\n",
        "$-\\alpha(x) u''(x)+\\beta(x) u'(x)+\\gamma(x) u(x)=f(x) \\quad \\in (a,b)$\n",
        "\n",
        "$u(a)=0, \\quad u(b)=0$.\n",
        "\n",
        "Implement FD method including the boundary conditions in the system."
      ]
    },
    {
      "cell_type": "code",
      "execution_count": 12,
      "metadata": {
        "id": "cVTxIyM7NFyh"
      },
      "outputs": [],
      "source": [
        "import numpy as np\n",
        "import matplotlib.pyplot as plt\n",
        "import scipy.sparse as sp\n",
        "from scipy.sparse.linalg import spsolve"
      ]
    },
    {
      "cell_type": "markdown",
      "metadata": {
        "id": "SRJ5pqdRPUtH"
      },
      "source": [
        "Function computing the 1D FD algebric system"
      ]
    },
    {
      "cell_type": "code",
      "execution_count": 13,
      "metadata": {
        "id": "Csg0gbiITqSg"
      },
      "outputs": [],
      "source": [
        "def FD1D(omega,N,alpha,beta,gamma,rhs):\n",
        "    # FD system matrix and rhs for\n",
        "    # diffusion-advection-reaction problem with coeffs\n",
        "    # alpha,beta,gamma,rhs\n",
        "    # homogeneous Dirichlet bc\n",
        "    # uniform grid in sparse CSR format\n",
        "\n",
        "    # grid\n",
        "    h = (omega[1] - omega[0]) / N\n",
        "    x = np.linspace(omega[0], omega[1], N + 1)\n",
        "\n",
        "    # compute coeffs and rhs values\n",
        "    diff = alpha(x)\n",
        "    conv = beta(x)\n",
        "    reac = gamma(x)\n",
        "    F = rhs(x)\n",
        "\n",
        "    # assemble system matrix\n",
        "    diff_term = [-diff[1 : N + 1], 2 * diff, -diff[0 : -1]]\n",
        "    conv_term = [-conv[1 : N + 1], conv[0 : -1]]\n",
        "\n",
        "    A = (1./h**2) * sp.diags(diff_term,[-1,0,1],format=\"csr\") + (1. / (2 * h)) * sp.diags(conv_term,[-1,1],format=\"csr\") + sp.diags(reac,0,format=\"csr\")\n",
        "\n",
        "    # modify system to account for homogeneous Dirichlet boundary conditions\n",
        "    A[0,0] = 1; A[0,1] = 0; F[0] = 0\n",
        "    A[N,N] = 1; A[N,N-1] = 0; F[N] = 0\n",
        "\n",
        "    return A, F"
      ]
    },
    {
      "cell_type": "markdown",
      "metadata": {
        "id": "gRfVSvNTJg03"
      },
      "source": [
        "Solve the boundary value problem with:\n",
        "\n",
        "$a=0,\\, b=Π$\n",
        "\n",
        "$\\alpha(x)=1+\\sin(x),\\,  \\beta(x)=1,\\, \\gamma(x)=x,\\, f(x)=1$"
      ]
    },
    {
      "cell_type": "code",
      "execution_count": 15,
      "metadata": {
        "id": "ZOZf2ZiTJjO5"
      },
      "outputs": [
        {
          "data": {
            "image/png": "[encoded data removed]",
            "text/plain": [
              "<Figure size 640x480 with 1 Axes>"
            ]
          },
          "metadata": {},
          "output_type": "display_data"
        }
      ],
      "source": [
        "# Problem domain\n",
        "omega = [0, np.pi]\n",
        "\n",
        "# Problem data\n",
        "alpha = lambda x : 1 + np.sin(x)\n",
        "beta = lambda x : np.ones(len(x))\n",
        "gamma = lambda x : x\n",
        "rhs = lambda x : np.ones(len(x))\n",
        "\n",
        "# Grid parameters\n",
        "N = 100\n",
        "x = np.linspace(omega[0],omega[1],N+1)\n",
        "\n",
        "# Assemble FD system\n",
        "A, F = FD1D(omega, N, alpha, beta, gamma, rhs)\n",
        "\n",
        "# solve\n",
        "uh = sp.linalg.spsolve(A, F)\n",
        "\n",
        "# plot solution\n",
        "plt.plot(x,uh)\n",
        "plt.grid()"
      ]
    },
    {
      "cell_type": "markdown",
      "metadata": {
        "id": "ohPbdO6sTsaw"
      },
      "source": [
        "Compute experimental order of convergence (EOC) using knowledge that\n",
        "\n",
        "$|| U-U_h ||_\\infty \\approx C h^k$\n",
        "\n",
        "with $C$ independent of $h$. Hence,\n",
        "\n",
        "$\\frac{|| U-U_{h_1} ||_\\infty}{|| U-U_{h_2} ||_\\infty}\\approx\\large(\\frac{h_1}{h_2}\\large)^k$,\n",
        "\n",
        "and then,\n",
        "\n",
        "$k\\approx\\frac{\\log || U-U_{h_1} ||_\\infty-\\log|| U-U_{h_2} ||_\\infty}{\\log h_1 - \\log h_2}$.\n",
        "\n",
        "Notice that to estimate the EOC you need to run at least two experiments, for instance with $h_1=h$, $h_2=h/2$."
      ]
    },
    {
      "cell_type": "markdown",
      "metadata": {
        "id": "Cc7f28z4qrVf"
      },
      "source": [
        "For simplicity, let's take\n",
        "\n",
        "$\\alpha(x)=1,\\,  \\beta(x)=0,\\, \\gamma(x)=0$\n",
        "\n",
        "and\n",
        "\n",
        "$u=\\sin(x)$ so that $f=\\sin(x)$\n"
      ]
    },
    {
      "cell_type": "code",
      "execution_count": 16,
      "metadata": {
        "id": "34lm792MXmOu"
      },
      "outputs": [
        {
          "name": "stdout",
          "output_type": "stream",
          "text": [
            "2.0337540817563418\n",
            "2.0083667395265783\n",
            "2.002087242818026\n",
            "2.000521533808191\n",
            "2.0001303666095027\n",
            "2.000032593400208\n",
            "2.0000081986611353\n",
            "2.0000026435322216\n",
            "2.000007765525166\n",
            "2.0000708399864684\n",
            "1.9995484754935031\n"
          ]
        }
      ],
      "source": [
        "omega = [0, np.pi]\n",
        "\n",
        "alpha = lambda x : np.ones(len(x))\n",
        "beta = lambda x : 0. * np.ones(len(x))\n",
        "gamma = lambda x : 0. * np.ones(len(x))\n",
        "rhs = lambda x : np.sin(x)\n",
        "u = lambda x : np.sin(x)\n",
        "\n",
        "no_exp = 12\n",
        "\n",
        "N = 4\n",
        "x = np.linspace(omega[0], omega[1], N + 1)\n",
        "A, F = FD1D(omega, N, alpha, beta, gamma, rhs)\n",
        "uh = sp.linalg.spsolve(A, F)\n",
        "err1 = max(abs(u(x) - uh))\n",
        "h1 = (omega[1] - omega[0]) / N\n",
        "\n",
        "for i in range(no_exp - 1):\n",
        "    N = 2 * N\n",
        "    x = np.linspace(omega[0], omega[1], N + 1)\n",
        "    A, F = FD1D(omega, N, alpha, beta, gamma, rhs)\n",
        "\n",
        "    uh = sp.linalg.spsolve(A, F)\n",
        "    err2 = max(abs(u(x) - uh))\n",
        "    h2 = (omega[1] - omega[0]) / N\n",
        "\n",
        "    print((np.log(err1) - np.log(err2)) / (np.log(h1) - np.log(h2)))\n",
        "\n",
        "    err1 = err2\n",
        "    h1 = h2"
      ]
    },
    {
      "cell_type": "markdown",
      "metadata": {
        "id": "1qj6q7X1Xmwm"
      },
      "source": [
        "What if the exact solution is not known? Then we can still estimate the EOC using three experiments. Indeed, letting $h_2=\\theta h_1$, we have\n",
        "\n",
        "$|| U_{h_2}-U_{h_1} ||_\\infty\\le || U-U_{h_1} ||_\\infty + || U-U_{h_2} ||_\\infty\\approx C h_1^k+C h_2^k \\approx C (1+\\theta^k) h_1^k$\n",
        "\n",
        "Now, given also $h_3 = \\theta h_2$, we have similarly\n",
        "\n",
        "$|| U_{h_3}-U_{h_2} ||_\\infty \\approx C (1+\\theta^k) h_2^k=C (1+\\theta^k)\\theta^k h_1^k$\n",
        "\n",
        "hence,\n",
        "\n",
        "$\\frac{|| U_{h_2}-U_{h_1} ||_\\infty}{|| U_{h_3}-U_{h_2} ||_\\infty}\\approx \\frac{C (1+\\theta^k) h_1^k}{C (1+\\theta^k)\\theta^k h_1^k}=\\theta^{-k}$\n",
        "\n",
        "from which $k$ can be estimated as before by passing to the logs.\n",
        "\n",
        "NOTE! The discrete solutions are defined at different sets of points so the above comparison is to be intended on the set of common points!"
      ]
    },
    {
      "cell_type": "markdown",
      "metadata": {
        "id": "N3UJHKF0XsQh"
      },
      "source": [
        "**Exercise 1:** try this out for the problem with\n",
        "\n",
        "$\\alpha(x)=1+\\sin(x),\\,  \\beta(x)=1,\\, \\gamma(x)=x, \\, f=1$.\n",
        "\n",
        "Check that you still get the expected rate of convergence."
      ]
    },
    {
      "cell_type": "code",
      "execution_count": 17,
      "metadata": {},
      "outputs": [
        {
          "name": "stdout",
          "output_type": "stream",
          "text": [
            "Estimated EOC: 1.755 (N = 16)\n",
            "Estimated EOC: 1.859 (N = 32)\n",
            "Estimated EOC: 1.971 (N = 64)\n",
            "Estimated EOC: 1.99 (N = 128)\n",
            "Estimated EOC: 1.998 (N = 256)\n",
            "Estimated EOC: 1.999 (N = 512)\n",
            "Estimated EOC: 2.0 (N = 1024)\n",
            "Estimated EOC: 2.0 (N = 2048)\n",
            "Estimated EOC: 2.0 (N = 4096)\n",
            "Estimated EOC: 2.0 (N = 8192)\n",
            "Estimated EOC: 1.999 (N = 16384)\n",
            "Estimated EOC: 2.009 (N = 32768)\n"
          ]
        }
      ],
      "source": [
        "omega = [0, np.pi]\n",
        "\n",
        "x = np.linspace(omega[0], omega[1], N + 1)\n",
        "A, F = FD1D(omega, N, alpha, beta, gamma, rhs)\n",
        "uh = sp.linalg.spsolve(A, F)\n",
        "err1 = max(abs(u(x) - uh))\n",
        "h1 = (omega[1] - omega[0]) / N\n",
        "\n",
        "alpha = lambda x : np.ones(len(x)) + np.sin(x)\n",
        "beta = lambda x : np.ones(len(x))\n",
        "gamma = lambda x : x\n",
        "rhs = lambda x : np.ones(len(x))\n",
        "\n",
        "theta = 0.5\n",
        "\n",
        "uh_prev = None\n",
        "err_prev = None\n",
        "\n",
        "for N in [2**i for i in range(2,16)]:\n",
        "    x = np.linspace(omega[0], omega[1], N + 1)\n",
        "    A, F = FD1D(omega, N, alpha, beta, gamma, rhs)\n",
        "    uh = sp.linalg.spsolve(A, F)\n",
        "\n",
        "    if uh_prev is not None:\n",
        "        err = max(abs(uh[::2] - uh_prev))\n",
        "        if err_prev is not None:\n",
        "            k = np.log(err / err_prev) / np.log(theta)\n",
        "            print(f'Estimated EOC: {np.around(k, 3)} (N = {N})')\n",
        "\n",
        "        err_prev = err\n",
        "\n",
        "    uh_prev = uh"
      ]
    },
    {
      "cell_type": "markdown",
      "metadata": {
        "id": "t2KVyLFnsOZd"
      },
      "source": [
        "## Exercise 2\n",
        "\n",
        "Modify the FD1D routine to solve problems with nonhomogeneous boundary conditions."
      ]
    },
    {
      "cell_type": "code",
      "execution_count": 18,
      "metadata": {},
      "outputs": [],
      "source": [
        "def FD1D_NH(omega, N, alpha, beta, gamma, rhs, bc_left, bc_right):\n",
        "    h = (omega[1]-omega[0])/N\n",
        "    x = np.linspace(omega[0], omega[1], N+1)\n",
        "\n",
        "    diff = alpha(x)\n",
        "    conv = beta(x)\n",
        "    reac = gamma(x)\n",
        "    F = rhs(x)\n",
        "\n",
        "    diff_term = [-diff[1:N+1], 2*diff, -diff[0:-1]]\n",
        "    conv_term = [-conv[1:N+1], conv[0:-1]]\n",
        "\n",
        "    A = (1./h**2) * sp.diags(diff_term,[-1,0,1],format=\"csr\")+(1./(2*h)) * sp.diags(conv_term,[-1,1],format=\"csr\") + sp.diags(reac,0,format=\"csr\")\n",
        "\n",
        "    A[0,0] = 1; A[0,1] = 0; F[0] = bc_left\n",
        "    A[N,N] = 1; A[N,N-1] = 0; F[N] = bc_right\n",
        "\n",
        "    return A, F"
      ]
    },
    {
      "cell_type": "code",
      "execution_count": 19,
      "metadata": {},
      "outputs": [
        {
          "name": "stdout",
          "output_type": "stream",
          "text": [
            "Estimated EOC: 1.7552 (N = 16)\n",
            "Estimated EOC: 1.8589 (N = 32)\n",
            "Estimated EOC: 1.9706 (N = 64)\n",
            "Estimated EOC: 1.9902 (N = 128)\n",
            "Estimated EOC: 1.9982 (N = 256)\n",
            "Estimated EOC: 1.9993 (N = 512)\n",
            "Estimated EOC: 1.9999 (N = 1024)\n",
            "Estimated EOC: 2.0 (N = 2048)\n",
            "Estimated EOC: 2.0 (N = 4096)\n",
            "Estimated EOC: 2.0001 (N = 8192)\n",
            "Estimated EOC: 1.9989 (N = 16384)\n",
            "Estimated EOC: 2.0085 (N = 32768)\n"
          ]
        }
      ],
      "source": [
        "uh_prev = None\n",
        "err_prev = None\n",
        "\n",
        "for N in [2**i for i in range(2,16)]:\n",
        "    x = np.linspace(omega[0], omega[1], N + 1)\n",
        "    A, F = FD1D_NH(omega, N, alpha, beta, gamma, rhs, 0.0, 0.0)\n",
        "    uh = sp.linalg.spsolve(A, F)\n",
        "\n",
        "    if uh_prev is not None:\n",
        "        err = max(abs(uh[::2] - uh_prev))\n",
        "        if err_prev is not None:\n",
        "            k = np.log(err / err_prev) / np.log(theta)\n",
        "            print(f'Estimated EOC: {np.around(k, 4)} (N = {N})')\n",
        "\n",
        "        err_prev = err\n",
        "\n",
        "    uh_prev = uh"
      ]
    },
    {
      "cell_type": "markdown",
      "metadata": {
        "id": "xAo1OdaSr72T"
      },
      "source": [
        "## Exercise 3\n",
        "\n",
        "Consider now the problem defined by:\n",
        "\n",
        "$a=0$, $b=1$, $u(0)=1$, $u(1)=0$ $f=0$ and\n",
        "\n",
        "$\\alpha=\\beta=\\gamma=1$.\n",
        "\n",
        "Solve this problem using a grid made of $N=10$ intervals and plot the solution."
      ]
    },
    {
      "cell_type": "code",
      "execution_count": 20,
      "metadata": {},
      "outputs": [
        {
          "data": {
            "image/png": "[encoded data removed]",
            "text/plain": [
              "<Figure size 640x480 with 1 Axes>"
            ]
          },
          "metadata": {},
          "output_type": "display_data"
        }
      ],
      "source": [
        "omega = [0., 1.]\n",
        "alpha = lambda x : np.ones(len(x))\n",
        "beta = lambda x : np.ones(len(x))\n",
        "gamma = lambda x : np.ones(len(x))\n",
        "rhs = lambda x : 0. * np.ones(len(x))\n",
        "N = 10\n",
        "\n",
        "A, F = FD1D_NH(omega, N, alpha, beta, gamma, rhs, 1., 0.)\n",
        "x = np.linspace(omega[0], omega[1], N + 1)\n",
        "uh = sp.linalg.spsolve(A, F)\n",
        "plt.plot(x,uh)\n",
        "plt.grid()"
      ]
    },
    {
      "cell_type": "markdown",
      "metadata": {},
      "source": [
        "Next, try with $\\alpha=0.01$, $\\beta=1$, $\\gamma=0$. What happens? Can you explain? Experiment by taking finer grids."
      ]
    },
    {
      "cell_type": "code",
      "execution_count": 21,
      "metadata": {},
      "outputs": [
        {
          "data": {
            "image/png": "[encoded data removed]",
            "text/plain": [
              "<Figure size 640x480 with 1 Axes>"
            ]
          },
          "metadata": {},
          "output_type": "display_data"
        }
      ],
      "source": [
        "alpha = lambda x : 0.01 * np.ones(len(x))\n",
        "beta = lambda x : np.ones(len(x))\n",
        "gamma = lambda x : 0 * np.ones(len(x))\n",
        "\n",
        "A, F = FD1D_NH(omega, N, alpha, beta, gamma, rhs, 1., 0.)\n",
        "x = np.linspace(omega[0], omega[1], N + 1)\n",
        "uh = sp.linalg.spsolve(A, F)\n",
        "plt.plot(x,uh)\n",
        "plt.grid()"
      ]
    },
    {
      "cell_type": "markdown",
      "metadata": {},
      "source": [
        "In the first case there is a high diffusion coefficient ($\\alpha=1$) and a non-zero reaction term ($\\gamma=1$). This leads to a diffusion-dominated problem, where the solution tends to be smooth. The high diffusion spreads the effect of the boundary conditions smoothly across the domain.\n",
        "\n",
        "In the second case there is a low diffusion coefficient ($\\alpha=0.01$) and a zero reaction term ($\\gamma=0$). This leads to a convection-dominated problem, where the solution can exhibit steep gradients or oscillations.\n",
        "\n",
        "One way to mitigate this is to use a more sophisticated numerical method that can handle convection-dominated problems better, such as upwind schemes, stabilization techniques, or adaptive mesh refinement."
      ]
    }
  ],
  "metadata": {
    "colab": {
      "authorship_tag": "ABX9TyMw8f8iO99eiIJHBrlenYKb",
      "include_colab_link": true,
      "name": "C3.ipynb",
      "provenance": []
    },
    "kernelspec": {
      "display_name": "Python 3",
      "name": "python3"
    },
    "language_info": {
      "codemirror_mode": {
        "name": "ipython",
        "version": 3
      },
      "file_extension": ".py",
      "mimetype": "text/x-python",
      "name": "python",
      "nbconvert_exporter": "python",
      "pygments_lexer": "ipython3",
      "version": "3.10.12"
    }
  },
  "nbformat": 4,
  "nbformat_minor": 0
}
