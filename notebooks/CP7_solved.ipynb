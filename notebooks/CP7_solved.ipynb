{
 "cells": [
  {
   "cell_type": "markdown",
   "metadata": {
    "colab_type": "text",
    "id": "view-in-github"
   },
   "source": [
    "<a href=\"https://colab.research.google.com/github/andreacangiani/NSPDE-ANA2024/blob/main/Python/CP7_worked.ipynb\" target=\"_parent\"><img src=\"https://colab.research.google.com/assets/colab-badge.svg\" alt=\"Open In Colab\"/></a>"
   ]
  },
  {
   "cell_type": "markdown",
   "metadata": {
    "id": "iBa6BgX7IU2k"
   },
   "source": [
    "# The FEniCS Project"
   ]
  },
  {
   "cell_type": "markdown",
   "metadata": {
    "id": "u-kZtjlmAhjr"
   },
   "source": [
    "The [FEniCS Project](https://colab.research.google.com/drive/1UX17QtYCpfLQhdu_Z8c3b3VlEh1Onjf8#scrollTo=u-kZtjlmAhjr&line=1&uniqifier=1) is an open-source software project aimed at creating an automated workflow for computational mathematical modelling based on the Finite Element Method (FEM).\n",
    "\n",
    "The latest version of the FEniCS project, FEniCSx, consists of several building blocks:\n",
    "* dolfinx is the FEM high performance C++ backend of FEniCSx, implementing structures such as meshes, function spaces and functions. DOLFINx also performs finite element assembly and mesh refinement algorithms. Finally, it interfaces to linear algebra solvers and data-structures, such as [PETSc](https://petsc.org/release/).\n",
    "* UFL is a symbolic library providing a high-level form language for describing variational formulations with a high-level mathematical syntax\n",
    "* FFCx is the form compiler of FEniCSx; given variational formulations written with UFL, it generates efficient C code.\n"
   ]
  },
  {
   "cell_type": "markdown",
   "metadata": {
    "id": "vf6wNr55Ff2K"
   },
   "source": [
    "As many other open-source software, FEniCS uses other packages while carrying out specific tasks of the FEM pipeline. A few notable dependencies of FEniCS are:\n",
    "\n",
    "*  PETSc (and its Python wrapping petsc4py) for linear algebra solvers (and much more, such as nonlinear solvers and time stepping);\n",
    "*    SLEPc (and its Python wrapping slepc4py) for solution of eigenvalue problems;\n",
    "*    MPI for parallel computing;\n",
    "*    ParMETIS and SCOTCH for mesh partitioning in parallel computing;\n",
    "*    Gmsh for generation of complex meshes;\n",
    "*    numpy for matrix/vector manipulation from Python;\n",
    "*    viskex for plotting meshes and solutions.\n"
   ]
  },
  {
   "cell_type": "markdown",
   "metadata": {
    "id": "6Zv6h3qPFzeK"
   },
   "source": [
    "More details can be found in the original tutorial:\n",
    "* Hans Petter Langtangen, Anders Logg, *[Solving PDEs in Python: The FEniCS Tutorial I](https://link.springer.com/book/10.1007/978-3-319-52462-7)*, Simula SpringerBriefs on Computing, Springer, 2016. The codes are found [here](https://jorgensd.github.io/dolfinx-tutorial/).\n",
    "\n",
    "This tutorial is a revised version of a tutorial by Francesco Ballarin (Università Cattolica del Sacro Cuore, Brescia), one of the developer of the FEniCS project. Credits go to him."
   ]
  },
  {
   "cell_type": "markdown",
   "metadata": {
    "id": "n6_gG3tNImhr"
   },
   "source": [
    "# FEniCS modules"
   ]
  },
  {
   "cell_type": "markdown",
   "metadata": {
    "id": "WK-vItWdGk7O"
   },
   "source": [
    "In this tutorial we will explicitly use only a few libraries, namely numpy, petsc4py, UFL, dolfinx. However, all FEniCS software components (and many of the dependencies listed above) will be used under the hood\n",
    "\n",
    "We start by importing all modules which we require.\n",
    "\n",
    "We do this through the python try/except blocks:\n",
    "* the try block lets you test a block of code for errors.\n",
    "* the except block lets you handle the error.\n",
    "\n",
    "**Note!** These libraries are in continuous development, so the following call may not work at a later time. For this, always check:\n",
    "\n",
    " https://fem-on-colab.github.io/\n"
   ]
  },
  {
   "cell_type": "code",
   "execution_count": 1,
   "metadata": {
    "id": "q3mljf8s-3Ql"
   },
   "outputs": [],
   "source": [
    "try:\n",
    "    import dolfinx\n",
    "except ImportError:\n",
    "    !wget \"https://github.com/fem-on-colab/fem-on-colab.github.io/raw/a3d664e/releases/fenicsx-install-real.sh\" -O \"/tmp/fenicsx-install.sh\" && bash \"/tmp/fenicsx-install.sh\"\n",
    "    import dolfinx"
   ]
  },
  {
   "cell_type": "code",
   "execution_count": 2,
   "metadata": {
    "id": "a4HAL3l4Hbks"
   },
   "outputs": [
    {
     "name": "stdout",
     "output_type": "stream",
     "text": [
      "Collecting viskex@ git+https://github.com/viskex/viskex.git\n",
      "  Cloning https://github.com/viskex/viskex.git to /tmp/pip-install-xux1hjf_/viskex_e163237c16fd48dda5bac209e5b65cf9\n",
      "  Running command git clone --filter=blob:none --quiet https://github.com/viskex/viskex.git /tmp/pip-install-xux1hjf_/viskex_e163237c16fd48dda5bac209e5b65cf9\n",
      "  Resolved https://github.com/viskex/viskex.git to commit 51ef3da0ee8970ddf721aa77e7d44a931e257052\n",
      "  Installing build dependencies ... \u001b[?25ldone\n",
      "\u001b[?25h  Getting requirements to build wheel ... \u001b[?25ldone\n",
      "\u001b[?25h  Preparing metadata (pyproject.toml) ... \u001b[?25ldone\n",
      "\u001b[?25hRequirement already satisfied: numpy in /dolfinx-env/lib/python3.12/site-packages (from viskex@ git+https://github.com/viskex/viskex.git) (2.0.2)\n",
      "Requirement already satisfied: pyvista[jupyter] in /dolfinx-env/lib/python3.12/site-packages (from viskex@ git+https://github.com/viskex/viskex.git) (0.44.1)\n",
      "Requirement already satisfied: matplotlib>=3.0.1 in /dolfinx-env/lib/python3.12/site-packages (from pyvista[jupyter]->viskex@ git+https://github.com/viskex/viskex.git) (3.9.2)\n",
      "Requirement already satisfied: pillow in /dolfinx-env/lib/python3.12/site-packages (from pyvista[jupyter]->viskex@ git+https://github.com/viskex/viskex.git) (10.4.0)\n",
      "Requirement already satisfied: pooch in /dolfinx-env/lib/python3.12/site-packages (from pyvista[jupyter]->viskex@ git+https://github.com/viskex/viskex.git) (1.8.2)\n",
      "Requirement already satisfied: scooby>=0.5.1 in /dolfinx-env/lib/python3.12/site-packages (from pyvista[jupyter]->viskex@ git+https://github.com/viskex/viskex.git) (0.10.0)\n",
      "Requirement already satisfied: vtk in /dolfinx-env/lib/python3.12/site-packages (from pyvista[jupyter]->viskex@ git+https://github.com/viskex/viskex.git) (9.3.1)\n",
      "Requirement already satisfied: typing-extensions in /dolfinx-env/lib/python3.12/site-packages (from pyvista[jupyter]->viskex@ git+https://github.com/viskex/viskex.git) (4.12.2)\n",
      "Requirement already satisfied: ipywidgets in /dolfinx-env/lib/python3.12/site-packages (from pyvista[jupyter]->viskex@ git+https://github.com/viskex/viskex.git) (8.1.5)\n",
      "Collecting jupyter-server-proxy (from pyvista[jupyter]->viskex@ git+https://github.com/viskex/viskex.git)\n",
      "  Downloading jupyter_server_proxy-4.4.0-py3-none-any.whl.metadata (8.7 kB)\n",
      "Requirement already satisfied: nest-asyncio in /dolfinx-env/lib/python3.12/site-packages (from pyvista[jupyter]->viskex@ git+https://github.com/viskex/viskex.git) (1.6.0)\n",
      "Collecting trame>=2.5.2 (from pyvista[jupyter]->viskex@ git+https://github.com/viskex/viskex.git)\n",
      "  Downloading trame-3.8.0-py3-none-any.whl.metadata (8.1 kB)\n",
      "Collecting trame-client>=2.12.7 (from pyvista[jupyter]->viskex@ git+https://github.com/viskex/viskex.git)\n",
      "  Downloading trame_client-3.5.2-py3-none-any.whl.metadata (5.9 kB)\n",
      "Collecting trame-server>=2.11.7 (from pyvista[jupyter]->viskex@ git+https://github.com/viskex/viskex.git)\n",
      "  Downloading trame_server-3.3.0-py3-none-any.whl.metadata (4.9 kB)\n",
      "Collecting trame-vtk>=2.5.8 (from pyvista[jupyter]->viskex@ git+https://github.com/viskex/viskex.git)\n",
      "  Downloading trame_vtk-2.8.15-py3-none-any.whl.metadata (13 kB)\n",
      "Collecting trame-vuetify>=2.3.1 (from pyvista[jupyter]->viskex@ git+https://github.com/viskex/viskex.git)\n",
      "  Downloading trame_vuetify-2.8.1-py3-none-any.whl.metadata (5.5 kB)\n",
      "Requirement already satisfied: contourpy>=1.0.1 in /dolfinx-env/lib/python3.12/site-packages (from matplotlib>=3.0.1->pyvista[jupyter]->viskex@ git+https://github.com/viskex/viskex.git) (1.3.0)\n",
      "Requirement already satisfied: cycler>=0.10 in /dolfinx-env/lib/python3.12/site-packages (from matplotlib>=3.0.1->pyvista[jupyter]->viskex@ git+https://github.com/viskex/viskex.git) (0.12.1)\n",
      "Requirement already satisfied: fonttools>=4.22.0 in /dolfinx-env/lib/python3.12/site-packages (from matplotlib>=3.0.1->pyvista[jupyter]->viskex@ git+https://github.com/viskex/viskex.git) (4.54.1)\n",
      "Requirement already satisfied: kiwisolver>=1.3.1 in /dolfinx-env/lib/python3.12/site-packages (from matplotlib>=3.0.1->pyvista[jupyter]->viskex@ git+https://github.com/viskex/viskex.git) (1.4.7)\n",
      "Requirement already satisfied: packaging>=20.0 in /dolfinx-env/lib/python3.12/site-packages (from matplotlib>=3.0.1->pyvista[jupyter]->viskex@ git+https://github.com/viskex/viskex.git) (24.1)\n",
      "Requirement already satisfied: pyparsing>=2.3.1 in /dolfinx-env/lib/python3.12/site-packages (from matplotlib>=3.0.1->pyvista[jupyter]->viskex@ git+https://github.com/viskex/viskex.git) (3.1.4)\n",
      "Requirement already satisfied: python-dateutil>=2.7 in /dolfinx-env/lib/python3.12/site-packages (from matplotlib>=3.0.1->pyvista[jupyter]->viskex@ git+https://github.com/viskex/viskex.git) (2.9.0.post0)\n",
      "Collecting wslink>=2.1.3 (from trame>=2.5.2->pyvista[jupyter]->viskex@ git+https://github.com/viskex/viskex.git)\n",
      "  Downloading wslink-2.2.2-py3-none-any.whl.metadata (3.1 kB)\n",
      "Collecting more-itertools (from trame-server>=2.11.7->pyvista[jupyter]->viskex@ git+https://github.com/viskex/viskex.git)\n",
      "  Downloading more_itertools-10.6.0-py3-none-any.whl.metadata (37 kB)\n",
      "Requirement already satisfied: comm>=0.1.3 in /dolfinx-env/lib/python3.12/site-packages (from ipywidgets->pyvista[jupyter]->viskex@ git+https://github.com/viskex/viskex.git) (0.2.2)\n",
      "Requirement already satisfied: ipython>=6.1.0 in /dolfinx-env/lib/python3.12/site-packages (from ipywidgets->pyvista[jupyter]->viskex@ git+https://github.com/viskex/viskex.git) (8.28.0)\n",
      "Requirement already satisfied: traitlets>=4.3.1 in /dolfinx-env/lib/python3.12/site-packages (from ipywidgets->pyvista[jupyter]->viskex@ git+https://github.com/viskex/viskex.git) (5.14.3)\n",
      "Requirement already satisfied: widgetsnbextension~=4.0.12 in /dolfinx-env/lib/python3.12/site-packages (from ipywidgets->pyvista[jupyter]->viskex@ git+https://github.com/viskex/viskex.git) (4.0.13)\n",
      "Requirement already satisfied: jupyterlab-widgets~=3.0.12 in /dolfinx-env/lib/python3.12/site-packages (from ipywidgets->pyvista[jupyter]->viskex@ git+https://github.com/viskex/viskex.git) (3.0.13)\n",
      "Collecting aiohttp (from jupyter-server-proxy->pyvista[jupyter]->viskex@ git+https://github.com/viskex/viskex.git)\n",
      "  Downloading aiohttp-3.11.12-cp312-cp312-manylinux_2_17_x86_64.manylinux2014_x86_64.whl.metadata (7.7 kB)\n",
      "Requirement already satisfied: jupyter-server>=1.24.0 in /dolfinx-env/lib/python3.12/site-packages (from jupyter-server-proxy->pyvista[jupyter]->viskex@ git+https://github.com/viskex/viskex.git) (2.14.2)\n",
      "Collecting simpervisor>=1.0.0 (from jupyter-server-proxy->pyvista[jupyter]->viskex@ git+https://github.com/viskex/viskex.git)\n",
      "  Downloading simpervisor-1.0.0-py3-none-any.whl.metadata (4.3 kB)\n",
      "Requirement already satisfied: tornado>=6.1.0 in /dolfinx-env/lib/python3.12/site-packages (from jupyter-server-proxy->pyvista[jupyter]->viskex@ git+https://github.com/viskex/viskex.git) (6.4.1)\n",
      "Requirement already satisfied: platformdirs>=2.5.0 in /dolfinx-env/lib/python3.12/site-packages (from pooch->pyvista[jupyter]->viskex@ git+https://github.com/viskex/viskex.git) (4.3.6)\n",
      "Requirement already satisfied: requests>=2.19.0 in /dolfinx-env/lib/python3.12/site-packages (from pooch->pyvista[jupyter]->viskex@ git+https://github.com/viskex/viskex.git) (2.32.3)\n",
      "Requirement already satisfied: decorator in /dolfinx-env/lib/python3.12/site-packages (from ipython>=6.1.0->ipywidgets->pyvista[jupyter]->viskex@ git+https://github.com/viskex/viskex.git) (5.1.1)\n",
      "Requirement already satisfied: jedi>=0.16 in /dolfinx-env/lib/python3.12/site-packages (from ipython>=6.1.0->ipywidgets->pyvista[jupyter]->viskex@ git+https://github.com/viskex/viskex.git) (0.19.1)\n",
      "Requirement already satisfied: matplotlib-inline in /dolfinx-env/lib/python3.12/site-packages (from ipython>=6.1.0->ipywidgets->pyvista[jupyter]->viskex@ git+https://github.com/viskex/viskex.git) (0.1.7)\n",
      "Requirement already satisfied: prompt-toolkit<3.1.0,>=3.0.41 in /dolfinx-env/lib/python3.12/site-packages (from ipython>=6.1.0->ipywidgets->pyvista[jupyter]->viskex@ git+https://github.com/viskex/viskex.git) (3.0.48)\n",
      "Requirement already satisfied: pygments>=2.4.0 in /dolfinx-env/lib/python3.12/site-packages (from ipython>=6.1.0->ipywidgets->pyvista[jupyter]->viskex@ git+https://github.com/viskex/viskex.git) (2.18.0)\n",
      "Requirement already satisfied: stack-data in /dolfinx-env/lib/python3.12/site-packages (from ipython>=6.1.0->ipywidgets->pyvista[jupyter]->viskex@ git+https://github.com/viskex/viskex.git) (0.6.3)\n",
      "Requirement already satisfied: pexpect>4.3 in /dolfinx-env/lib/python3.12/site-packages (from ipython>=6.1.0->ipywidgets->pyvista[jupyter]->viskex@ git+https://github.com/viskex/viskex.git) (4.9.0)\n",
      "Requirement already satisfied: anyio>=3.1.0 in /dolfinx-env/lib/python3.12/site-packages (from jupyter-server>=1.24.0->jupyter-server-proxy->pyvista[jupyter]->viskex@ git+https://github.com/viskex/viskex.git) (4.6.0)\n",
      "Requirement already satisfied: argon2-cffi>=21.1 in /dolfinx-env/lib/python3.12/site-packages (from jupyter-server>=1.24.0->jupyter-server-proxy->pyvista[jupyter]->viskex@ git+https://github.com/viskex/viskex.git) (23.1.0)\n",
      "Requirement already satisfied: jinja2>=3.0.3 in /dolfinx-env/lib/python3.12/site-packages (from jupyter-server>=1.24.0->jupyter-server-proxy->pyvista[jupyter]->viskex@ git+https://github.com/viskex/viskex.git) (3.1.4)\n",
      "Requirement already satisfied: jupyter-client>=7.4.4 in /dolfinx-env/lib/python3.12/site-packages (from jupyter-server>=1.24.0->jupyter-server-proxy->pyvista[jupyter]->viskex@ git+https://github.com/viskex/viskex.git) (8.6.3)\n",
      "Requirement already satisfied: jupyter-core!=5.0.*,>=4.12 in /dolfinx-env/lib/python3.12/site-packages (from jupyter-server>=1.24.0->jupyter-server-proxy->pyvista[jupyter]->viskex@ git+https://github.com/viskex/viskex.git) (5.7.2)\n",
      "Requirement already satisfied: jupyter-events>=0.9.0 in /dolfinx-env/lib/python3.12/site-packages (from jupyter-server>=1.24.0->jupyter-server-proxy->pyvista[jupyter]->viskex@ git+https://github.com/viskex/viskex.git) (0.10.0)\n",
      "Requirement already satisfied: jupyter-server-terminals>=0.4.4 in /dolfinx-env/lib/python3.12/site-packages (from jupyter-server>=1.24.0->jupyter-server-proxy->pyvista[jupyter]->viskex@ git+https://github.com/viskex/viskex.git) (0.5.3)\n",
      "Requirement already satisfied: nbconvert>=6.4.4 in /dolfinx-env/lib/python3.12/site-packages (from jupyter-server>=1.24.0->jupyter-server-proxy->pyvista[jupyter]->viskex@ git+https://github.com/viskex/viskex.git) (7.16.4)\n",
      "Requirement already satisfied: nbformat>=5.3.0 in /dolfinx-env/lib/python3.12/site-packages (from jupyter-server>=1.24.0->jupyter-server-proxy->pyvista[jupyter]->viskex@ git+https://github.com/viskex/viskex.git) (5.10.4)\n",
      "Requirement already satisfied: overrides>=5.0 in /dolfinx-env/lib/python3.12/site-packages (from jupyter-server>=1.24.0->jupyter-server-proxy->pyvista[jupyter]->viskex@ git+https://github.com/viskex/viskex.git) (7.7.0)\n",
      "Requirement already satisfied: prometheus-client>=0.9 in /dolfinx-env/lib/python3.12/site-packages (from jupyter-server>=1.24.0->jupyter-server-proxy->pyvista[jupyter]->viskex@ git+https://github.com/viskex/viskex.git) (0.21.0)\n",
      "Requirement already satisfied: pyzmq>=24 in /dolfinx-env/lib/python3.12/site-packages (from jupyter-server>=1.24.0->jupyter-server-proxy->pyvista[jupyter]->viskex@ git+https://github.com/viskex/viskex.git) (26.2.0)\n",
      "Requirement already satisfied: send2trash>=1.8.2 in /dolfinx-env/lib/python3.12/site-packages (from jupyter-server>=1.24.0->jupyter-server-proxy->pyvista[jupyter]->viskex@ git+https://github.com/viskex/viskex.git) (1.8.3)\n",
      "Requirement already satisfied: terminado>=0.8.3 in /dolfinx-env/lib/python3.12/site-packages (from jupyter-server>=1.24.0->jupyter-server-proxy->pyvista[jupyter]->viskex@ git+https://github.com/viskex/viskex.git) (0.18.1)\n",
      "Requirement already satisfied: websocket-client>=1.7 in /dolfinx-env/lib/python3.12/site-packages (from jupyter-server>=1.24.0->jupyter-server-proxy->pyvista[jupyter]->viskex@ git+https://github.com/viskex/viskex.git) (1.8.0)\n",
      "Requirement already satisfied: six>=1.5 in /dolfinx-env/lib/python3.12/site-packages (from python-dateutil>=2.7->matplotlib>=3.0.1->pyvista[jupyter]->viskex@ git+https://github.com/viskex/viskex.git) (1.16.0)\n",
      "Requirement already satisfied: charset-normalizer<4,>=2 in /dolfinx-env/lib/python3.12/site-packages (from requests>=2.19.0->pooch->pyvista[jupyter]->viskex@ git+https://github.com/viskex/viskex.git) (3.4.0)\n",
      "Requirement already satisfied: idna<4,>=2.5 in /dolfinx-env/lib/python3.12/site-packages (from requests>=2.19.0->pooch->pyvista[jupyter]->viskex@ git+https://github.com/viskex/viskex.git) (3.10)\n",
      "Requirement already satisfied: urllib3<3,>=1.21.1 in /dolfinx-env/lib/python3.12/site-packages (from requests>=2.19.0->pooch->pyvista[jupyter]->viskex@ git+https://github.com/viskex/viskex.git) (2.2.3)\n",
      "Requirement already satisfied: certifi>=2017.4.17 in /dolfinx-env/lib/python3.12/site-packages (from requests>=2.19.0->pooch->pyvista[jupyter]->viskex@ git+https://github.com/viskex/viskex.git) (2024.8.30)\n",
      "Collecting msgpack<2,>=1 (from wslink>=2.1.3->trame>=2.5.2->pyvista[jupyter]->viskex@ git+https://github.com/viskex/viskex.git)\n",
      "  Downloading msgpack-1.1.0-cp312-cp312-manylinux_2_17_x86_64.manylinux2014_x86_64.whl.metadata (8.4 kB)\n",
      "Collecting aiohappyeyeballs>=2.3.0 (from aiohttp->jupyter-server-proxy->pyvista[jupyter]->viskex@ git+https://github.com/viskex/viskex.git)\n",
      "  Downloading aiohappyeyeballs-2.4.6-py3-none-any.whl.metadata (5.9 kB)\n",
      "Collecting aiosignal>=1.1.2 (from aiohttp->jupyter-server-proxy->pyvista[jupyter]->viskex@ git+https://github.com/viskex/viskex.git)\n",
      "  Downloading aiosignal-1.3.2-py2.py3-none-any.whl.metadata (3.8 kB)\n",
      "Requirement already satisfied: attrs>=17.3.0 in /dolfinx-env/lib/python3.12/site-packages (from aiohttp->jupyter-server-proxy->pyvista[jupyter]->viskex@ git+https://github.com/viskex/viskex.git) (24.2.0)\n",
      "Collecting frozenlist>=1.1.1 (from aiohttp->jupyter-server-proxy->pyvista[jupyter]->viskex@ git+https://github.com/viskex/viskex.git)\n",
      "  Downloading frozenlist-1.5.0-cp312-cp312-manylinux_2_5_x86_64.manylinux1_x86_64.manylinux_2_17_x86_64.manylinux2014_x86_64.whl.metadata (13 kB)\n",
      "Collecting multidict<7.0,>=4.5 (from aiohttp->jupyter-server-proxy->pyvista[jupyter]->viskex@ git+https://github.com/viskex/viskex.git)\n",
      "  Downloading multidict-6.1.0-cp312-cp312-manylinux_2_17_x86_64.manylinux2014_x86_64.whl.metadata (5.0 kB)\n",
      "Collecting propcache>=0.2.0 (from aiohttp->jupyter-server-proxy->pyvista[jupyter]->viskex@ git+https://github.com/viskex/viskex.git)\n",
      "  Downloading propcache-0.2.1-cp312-cp312-manylinux_2_17_x86_64.manylinux2014_x86_64.whl.metadata (9.2 kB)\n",
      "Collecting yarl<2.0,>=1.17.0 (from aiohttp->jupyter-server-proxy->pyvista[jupyter]->viskex@ git+https://github.com/viskex/viskex.git)\n",
      "  Downloading yarl-1.18.3-cp312-cp312-manylinux_2_17_x86_64.manylinux2014_x86_64.whl.metadata (69 kB)\n",
      "Requirement already satisfied: sniffio>=1.1 in /dolfinx-env/lib/python3.12/site-packages (from anyio>=3.1.0->jupyter-server>=1.24.0->jupyter-server-proxy->pyvista[jupyter]->viskex@ git+https://github.com/viskex/viskex.git) (1.3.1)\n",
      "Requirement already satisfied: argon2-cffi-bindings in /dolfinx-env/lib/python3.12/site-packages (from argon2-cffi>=21.1->jupyter-server>=1.24.0->jupyter-server-proxy->pyvista[jupyter]->viskex@ git+https://github.com/viskex/viskex.git) (21.2.0)\n",
      "Requirement already satisfied: parso<0.9.0,>=0.8.3 in /dolfinx-env/lib/python3.12/site-packages (from jedi>=0.16->ipython>=6.1.0->ipywidgets->pyvista[jupyter]->viskex@ git+https://github.com/viskex/viskex.git) (0.8.4)\n",
      "Requirement already satisfied: MarkupSafe>=2.0 in /dolfinx-env/lib/python3.12/site-packages (from jinja2>=3.0.3->jupyter-server>=1.24.0->jupyter-server-proxy->pyvista[jupyter]->viskex@ git+https://github.com/viskex/viskex.git) (3.0.1)\n",
      "Requirement already satisfied: jsonschema>=4.18.0 in /dolfinx-env/lib/python3.12/site-packages (from jsonschema[format-nongpl]>=4.18.0->jupyter-events>=0.9.0->jupyter-server>=1.24.0->jupyter-server-proxy->pyvista[jupyter]->viskex@ git+https://github.com/viskex/viskex.git) (4.23.0)\n",
      "Requirement already satisfied: python-json-logger>=2.0.4 in /dolfinx-env/lib/python3.12/site-packages (from jupyter-events>=0.9.0->jupyter-server>=1.24.0->jupyter-server-proxy->pyvista[jupyter]->viskex@ git+https://github.com/viskex/viskex.git) (2.0.7)\n",
      "Requirement already satisfied: pyyaml>=5.3 in /dolfinx-env/lib/python3.12/site-packages (from jupyter-events>=0.9.0->jupyter-server>=1.24.0->jupyter-server-proxy->pyvista[jupyter]->viskex@ git+https://github.com/viskex/viskex.git) (6.0.2)\n",
      "Requirement already satisfied: referencing in /dolfinx-env/lib/python3.12/site-packages (from jupyter-events>=0.9.0->jupyter-server>=1.24.0->jupyter-server-proxy->pyvista[jupyter]->viskex@ git+https://github.com/viskex/viskex.git) (0.35.1)\n",
      "Requirement already satisfied: rfc3339-validator in /dolfinx-env/lib/python3.12/site-packages (from jupyter-events>=0.9.0->jupyter-server>=1.24.0->jupyter-server-proxy->pyvista[jupyter]->viskex@ git+https://github.com/viskex/viskex.git) (0.1.4)\n",
      "Requirement already satisfied: rfc3986-validator>=0.1.1 in /dolfinx-env/lib/python3.12/site-packages (from jupyter-events>=0.9.0->jupyter-server>=1.24.0->jupyter-server-proxy->pyvista[jupyter]->viskex@ git+https://github.com/viskex/viskex.git) (0.1.1)\n",
      "Requirement already satisfied: beautifulsoup4 in /dolfinx-env/lib/python3.12/site-packages (from nbconvert>=6.4.4->jupyter-server>=1.24.0->jupyter-server-proxy->pyvista[jupyter]->viskex@ git+https://github.com/viskex/viskex.git) (4.12.3)\n",
      "Requirement already satisfied: bleach!=5.0.0 in /dolfinx-env/lib/python3.12/site-packages (from nbconvert>=6.4.4->jupyter-server>=1.24.0->jupyter-server-proxy->pyvista[jupyter]->viskex@ git+https://github.com/viskex/viskex.git) (6.1.0)\n",
      "Requirement already satisfied: defusedxml in /dolfinx-env/lib/python3.12/site-packages (from nbconvert>=6.4.4->jupyter-server>=1.24.0->jupyter-server-proxy->pyvista[jupyter]->viskex@ git+https://github.com/viskex/viskex.git) (0.7.1)\n",
      "Requirement already satisfied: jupyterlab-pygments in /dolfinx-env/lib/python3.12/site-packages (from nbconvert>=6.4.4->jupyter-server>=1.24.0->jupyter-server-proxy->pyvista[jupyter]->viskex@ git+https://github.com/viskex/viskex.git) (0.3.0)\n",
      "Requirement already satisfied: mistune<4,>=2.0.3 in /dolfinx-env/lib/python3.12/site-packages (from nbconvert>=6.4.4->jupyter-server>=1.24.0->jupyter-server-proxy->pyvista[jupyter]->viskex@ git+https://github.com/viskex/viskex.git) (3.0.2)\n",
      "Requirement already satisfied: nbclient>=0.5.0 in /dolfinx-env/lib/python3.12/site-packages (from nbconvert>=6.4.4->jupyter-server>=1.24.0->jupyter-server-proxy->pyvista[jupyter]->viskex@ git+https://github.com/viskex/viskex.git) (0.10.0)\n",
      "Requirement already satisfied: pandocfilters>=1.4.1 in /dolfinx-env/lib/python3.12/site-packages (from nbconvert>=6.4.4->jupyter-server>=1.24.0->jupyter-server-proxy->pyvista[jupyter]->viskex@ git+https://github.com/viskex/viskex.git) (1.5.1)\n",
      "Requirement already satisfied: tinycss2 in /dolfinx-env/lib/python3.12/site-packages (from nbconvert>=6.4.4->jupyter-server>=1.24.0->jupyter-server-proxy->pyvista[jupyter]->viskex@ git+https://github.com/viskex/viskex.git) (1.3.0)\n",
      "Requirement already satisfied: fastjsonschema>=2.15 in /dolfinx-env/lib/python3.12/site-packages (from nbformat>=5.3.0->jupyter-server>=1.24.0->jupyter-server-proxy->pyvista[jupyter]->viskex@ git+https://github.com/viskex/viskex.git) (2.20.0)\n",
      "Requirement already satisfied: ptyprocess>=0.5 in /dolfinx-env/lib/python3.12/site-packages (from pexpect>4.3->ipython>=6.1.0->ipywidgets->pyvista[jupyter]->viskex@ git+https://github.com/viskex/viskex.git) (0.7.0)\n",
      "Requirement already satisfied: wcwidth in /dolfinx-env/lib/python3.12/site-packages (from prompt-toolkit<3.1.0,>=3.0.41->ipython>=6.1.0->ipywidgets->pyvista[jupyter]->viskex@ git+https://github.com/viskex/viskex.git) (0.2.13)\n",
      "Requirement already satisfied: executing>=1.2.0 in /dolfinx-env/lib/python3.12/site-packages (from stack-data->ipython>=6.1.0->ipywidgets->pyvista[jupyter]->viskex@ git+https://github.com/viskex/viskex.git) (2.1.0)\n",
      "Requirement already satisfied: asttokens>=2.1.0 in /dolfinx-env/lib/python3.12/site-packages (from stack-data->ipython>=6.1.0->ipywidgets->pyvista[jupyter]->viskex@ git+https://github.com/viskex/viskex.git) (2.4.1)\n",
      "Requirement already satisfied: pure-eval in /dolfinx-env/lib/python3.12/site-packages (from stack-data->ipython>=6.1.0->ipywidgets->pyvista[jupyter]->viskex@ git+https://github.com/viskex/viskex.git) (0.2.3)\n",
      "Requirement already satisfied: webencodings in /dolfinx-env/lib/python3.12/site-packages (from bleach!=5.0.0->nbconvert>=6.4.4->jupyter-server>=1.24.0->jupyter-server-proxy->pyvista[jupyter]->viskex@ git+https://github.com/viskex/viskex.git) (0.5.1)\n",
      "Requirement already satisfied: jsonschema-specifications>=2023.03.6 in /dolfinx-env/lib/python3.12/site-packages (from jsonschema>=4.18.0->jsonschema[format-nongpl]>=4.18.0->jupyter-events>=0.9.0->jupyter-server>=1.24.0->jupyter-server-proxy->pyvista[jupyter]->viskex@ git+https://github.com/viskex/viskex.git) (2024.10.1)\n",
      "Requirement already satisfied: rpds-py>=0.7.1 in /dolfinx-env/lib/python3.12/site-packages (from jsonschema>=4.18.0->jsonschema[format-nongpl]>=4.18.0->jupyter-events>=0.9.0->jupyter-server>=1.24.0->jupyter-server-proxy->pyvista[jupyter]->viskex@ git+https://github.com/viskex/viskex.git) (0.20.0)\n",
      "Requirement already satisfied: fqdn in /dolfinx-env/lib/python3.12/site-packages (from jsonschema[format-nongpl]>=4.18.0->jupyter-events>=0.9.0->jupyter-server>=1.24.0->jupyter-server-proxy->pyvista[jupyter]->viskex@ git+https://github.com/viskex/viskex.git) (1.5.1)\n",
      "Requirement already satisfied: isoduration in /dolfinx-env/lib/python3.12/site-packages (from jsonschema[format-nongpl]>=4.18.0->jupyter-events>=0.9.0->jupyter-server>=1.24.0->jupyter-server-proxy->pyvista[jupyter]->viskex@ git+https://github.com/viskex/viskex.git) (20.11.0)\n",
      "Requirement already satisfied: jsonpointer>1.13 in /dolfinx-env/lib/python3.12/site-packages (from jsonschema[format-nongpl]>=4.18.0->jupyter-events>=0.9.0->jupyter-server>=1.24.0->jupyter-server-proxy->pyvista[jupyter]->viskex@ git+https://github.com/viskex/viskex.git) (3.0.0)\n",
      "Requirement already satisfied: uri-template in /dolfinx-env/lib/python3.12/site-packages (from jsonschema[format-nongpl]>=4.18.0->jupyter-events>=0.9.0->jupyter-server>=1.24.0->jupyter-server-proxy->pyvista[jupyter]->viskex@ git+https://github.com/viskex/viskex.git) (1.3.0)\n",
      "Requirement already satisfied: webcolors>=24.6.0 in /dolfinx-env/lib/python3.12/site-packages (from jsonschema[format-nongpl]>=4.18.0->jupyter-events>=0.9.0->jupyter-server>=1.24.0->jupyter-server-proxy->pyvista[jupyter]->viskex@ git+https://github.com/viskex/viskex.git) (24.8.0)\n",
      "Requirement already satisfied: cffi>=1.0.1 in /dolfinx-env/lib/python3.12/site-packages (from argon2-cffi-bindings->argon2-cffi>=21.1->jupyter-server>=1.24.0->jupyter-server-proxy->pyvista[jupyter]->viskex@ git+https://github.com/viskex/viskex.git) (1.17.1)\n",
      "Requirement already satisfied: soupsieve>1.2 in /dolfinx-env/lib/python3.12/site-packages (from beautifulsoup4->nbconvert>=6.4.4->jupyter-server>=1.24.0->jupyter-server-proxy->pyvista[jupyter]->viskex@ git+https://github.com/viskex/viskex.git) (2.6)\n",
      "Requirement already satisfied: pycparser in /dolfinx-env/lib/python3.12/site-packages (from cffi>=1.0.1->argon2-cffi-bindings->argon2-cffi>=21.1->jupyter-server>=1.24.0->jupyter-server-proxy->pyvista[jupyter]->viskex@ git+https://github.com/viskex/viskex.git) (2.22)\n",
      "Requirement already satisfied: arrow>=0.15.0 in /dolfinx-env/lib/python3.12/site-packages (from isoduration->jsonschema[format-nongpl]>=4.18.0->jupyter-events>=0.9.0->jupyter-server>=1.24.0->jupyter-server-proxy->pyvista[jupyter]->viskex@ git+https://github.com/viskex/viskex.git) (1.3.0)\n",
      "Requirement already satisfied: types-python-dateutil>=2.8.10 in /dolfinx-env/lib/python3.12/site-packages (from arrow>=0.15.0->isoduration->jsonschema[format-nongpl]>=4.18.0->jupyter-events>=0.9.0->jupyter-server>=1.24.0->jupyter-server-proxy->pyvista[jupyter]->viskex@ git+https://github.com/viskex/viskex.git) (2.9.0.20241003)\n",
      "Downloading trame-3.8.0-py3-none-any.whl (31 kB)\n",
      "Downloading trame_client-3.5.2-py3-none-any.whl (236 kB)\n",
      "Downloading trame_server-3.3.0-py3-none-any.whl (37 kB)\n",
      "Downloading trame_vtk-2.8.15-py3-none-any.whl (821 kB)\n",
      "\u001b[2K   \u001b[90m━━━━━━━━━━━━━━━━━━━━━━━━━━━━━━━━━━━━━━━━\u001b[0m \u001b[32m821.6/821.6 kB\u001b[0m \u001b[31m8.6 MB/s\u001b[0m eta \u001b[36m0:00:00\u001b[0m\n",
      "\u001b[?25hDownloading trame_vuetify-2.8.1-py3-none-any.whl (4.9 MB)\n",
      "\u001b[2K   \u001b[90m━━━━━━━━━━━━━━━━━━━━━━━━━━━━━━━━━━━━━━━━\u001b[0m \u001b[32m4.9/4.9 MB\u001b[0m \u001b[31m9.2 MB/s\u001b[0m eta \u001b[36m0:00:00\u001b[0ma \u001b[36m0:00:01\u001b[0mm\n",
      "\u001b[?25hDownloading jupyter_server_proxy-4.4.0-py3-none-any.whl (37 kB)\n",
      "Downloading simpervisor-1.0.0-py3-none-any.whl (8.3 kB)\n",
      "Downloading wslink-2.2.2-py3-none-any.whl (36 kB)\n",
      "Downloading aiohttp-3.11.12-cp312-cp312-manylinux_2_17_x86_64.manylinux2014_x86_64.whl (1.7 MB)\n",
      "\u001b[2K   \u001b[90m━━━━━━━━━━━━━━━━━━━━━━━━━━━━━━━━━━━━━━━━\u001b[0m \u001b[32m1.7/1.7 MB\u001b[0m \u001b[31m9.2 MB/s\u001b[0m eta \u001b[36m0:00:00\u001b[0m\n",
      "\u001b[?25hDownloading more_itertools-10.6.0-py3-none-any.whl (63 kB)\n",
      "Downloading aiohappyeyeballs-2.4.6-py3-none-any.whl (14 kB)\n",
      "Downloading aiosignal-1.3.2-py2.py3-none-any.whl (7.6 kB)\n",
      "Downloading frozenlist-1.5.0-cp312-cp312-manylinux_2_5_x86_64.manylinux1_x86_64.manylinux_2_17_x86_64.manylinux2014_x86_64.whl (283 kB)\n",
      "Downloading msgpack-1.1.0-cp312-cp312-manylinux_2_17_x86_64.manylinux2014_x86_64.whl (401 kB)\n",
      "Downloading multidict-6.1.0-cp312-cp312-manylinux_2_17_x86_64.manylinux2014_x86_64.whl (131 kB)\n",
      "Downloading propcache-0.2.1-cp312-cp312-manylinux_2_17_x86_64.manylinux2014_x86_64.whl (243 kB)\n",
      "Downloading yarl-1.18.3-cp312-cp312-manylinux_2_17_x86_64.manylinux2014_x86_64.whl (336 kB)\n",
      "Building wheels for collected packages: viskex\n",
      "  Building wheel for viskex (pyproject.toml) ... \u001b[?25ldone\n",
      "\u001b[?25h  Created wheel for viskex: filename=viskex-0.0.dev1-py3-none-any.whl size=22962 sha256=3af8e98083499c518e643ecb4afb1f59046c980f20861679b65421cb6d0c6c6d\n",
      "  Stored in directory: /tmp/pip-ephem-wheel-cache-frt25kwi/wheels/af/0c/01/8a3bb6feb87670c38bc0ae74b0b848507a536643997ef39150\n",
      "Successfully built viskex\n",
      "Installing collected packages: trame-client, simpervisor, propcache, multidict, msgpack, more-itertools, frozenlist, aiohappyeyeballs, yarl, trame-vuetify, trame-vtk, aiosignal, aiohttp, wslink, trame-server, trame, jupyter-server-proxy, viskex\n",
      "Successfully installed aiohappyeyeballs-2.4.6 aiohttp-3.11.12 aiosignal-1.3.2 frozenlist-1.5.0 jupyter-server-proxy-4.4.0 more-itertools-10.6.0 msgpack-1.1.0 multidict-6.1.0 propcache-0.2.1 simpervisor-1.0.0 trame-3.8.0 trame-client-3.5.2 trame-server-3.3.0 trame-vtk-2.8.15 trame-vuetify-2.8.1 viskex-0.0.dev1 wslink-2.2.2 yarl-1.18.3\n",
      "\n",
      "\u001b[1m[\u001b[0m\u001b[34;49mnotice\u001b[0m\u001b[1;39;49m]\u001b[0m\u001b[39;49m A new release of pip is available: \u001b[0m\u001b[31;49m24.2\u001b[0m\u001b[39;49m -> \u001b[0m\u001b[32;49m25.0.1\u001b[0m\n",
      "\u001b[1m[\u001b[0m\u001b[34;49mnotice\u001b[0m\u001b[1;39;49m]\u001b[0m\u001b[39;49m To update, run: \u001b[0m\u001b[32;49mpip install --upgrade pip\u001b[0m\n"
     ]
    }
   ],
   "source": [
    "try:\n",
    "    import viskex\n",
    "except ImportError:\n",
    "    !pip install \"viskex@git+https://github.com/viskex/viskex.git\"\n",
    "    import viskex"
   ]
  },
  {
   "cell_type": "code",
   "execution_count": 3,
   "metadata": {
    "id": "32H4dB1cIOXC"
   },
   "outputs": [],
   "source": [
    "import dolfinx.fem\n",
    "import dolfinx.fem.petsc\n",
    "import dolfinx.mesh\n",
    "import mpi4py.MPI\n",
    "import numpy as np\n",
    "import ufl\n",
    "import viskex"
   ]
  },
  {
   "cell_type": "markdown",
   "metadata": {
    "id": "3xXhYbfYI05B"
   },
   "source": [
    "# Tutorial 1: solving a diffusion problem in 1D"
   ]
  },
  {
   "cell_type": "markdown",
   "metadata": {
    "id": "aaEABUFhIxr7"
   },
   "source": [
    "We consider the model boundary value problem:\n",
    "$$\n",
    "\\left\\{\n",
    "\\begin{array}{l}\n",
    "- u'' = 2, & x \\in I= (0, 1),\\\\\n",
    "u(0) = 0,\\\\\n",
    "u(1) = 1.\n",
    "\\end{array}\n",
    "\\right.\n",
    "$$"
   ]
  },
  {
   "cell_type": "markdown",
   "metadata": {
    "id": "I4WTy9x6JrlO"
   },
   "source": [
    "**Task 1: create a mesh.**\n",
    "\n",
    "`dolfinx.mesh` provide some built-in functions to generate simple meshes, and in particular `create_unit_interval` for an equispaced mesh on the unit interval $I$.\n",
    "\n",
    " Create the uniform mesh with 10 cells:"
   ]
  },
  {
   "cell_type": "code",
   "execution_count": 4,
   "metadata": {
    "id": "RnAKPpOLJ7MV"
   },
   "outputs": [],
   "source": [
    "mesh = dolfinx.mesh.create_unit_interval(mpi4py.MPI.COMM_WORLD,12)"
   ]
  },
  {
   "cell_type": "markdown",
   "metadata": {
    "id": "j8pwIp-3NDAH"
   },
   "source": [
    "Note that `dolfinx.mesh` requires that we supply the MPI-communicator. This is to specify how we would like the program to behave in parallel. With:\n",
    "* MPI.COMM_WORLD we create a single mesh, whose data is distributed over the number of processors we would like to use.\n",
    "* MPI.COMM_SELF we create a separate mesh on each processor"
   ]
  },
  {
   "cell_type": "markdown",
   "metadata": {
    "id": "pRG-SAyIKJqB"
   },
   "source": [
    "We can obtain an interactive plot of the domain using viskex"
   ]
  },
  {
   "cell_type": "code",
   "execution_count": 5,
   "metadata": {
    "id": "HasVFvBVJ-uj"
   },
   "outputs": [
    {
     "data": {
      "application/vnd.jupyter.widget-view+json": {
       "model_id": "3107f38269564050bd262a4aa2b3e5d1",
       "version_major": 2,
       "version_minor": 0
      },
      "text/plain": [
       "Widget(value='<iframe src=\"http://localhost:42195/index.html?ui=P_0x7bfe40ded790_0&reconnect=auto\" class=\"pyvi…"
      ]
     },
     "metadata": {},
     "output_type": "display_data"
    }
   ],
   "source": [
    "try:\n",
    "    viskex.dolfinx.plot_mesh(mesh)\n",
    "except ConnectionResetError as e:\n",
    "    print(f\"ConnectionResetError encountered: {e}. Continuing execution.\")"
   ]
  },
  {
   "cell_type": "markdown",
   "metadata": {
    "id": "sLBmmlwaKaz3"
   },
   "source": [
    "A **mesh**  is made by\n",
    "*  a set of points: these are part of the mesh.geometry\n",
    "*  a set of subintervals that connect them: these are part of the mesh.topology\n",
    "\n"
   ]
  },
  {
   "cell_type": "code",
   "execution_count": 6,
   "metadata": {
    "id": "Sk3bXpVWKTUu"
   },
   "outputs": [
    {
     "data": {
      "text/plain": [
       "array([[0.        , 0.        , 0.        ],\n",
       "       [0.08333333, 0.        , 0.        ],\n",
       "       [0.16666667, 0.        , 0.        ],\n",
       "       [0.25      , 0.        , 0.        ],\n",
       "       [0.33333333, 0.        , 0.        ],\n",
       "       [0.41666667, 0.        , 0.        ],\n",
       "       [0.5       , 0.        , 0.        ],\n",
       "       [0.58333333, 0.        , 0.        ],\n",
       "       [0.66666667, 0.        , 0.        ],\n",
       "       [0.75      , 0.        , 0.        ],\n",
       "       [0.83333333, 0.        , 0.        ],\n",
       "       [0.91666667, 0.        , 0.        ],\n",
       "       [1.        , 0.        , 0.        ]])"
      ]
     },
     "execution_count": 6,
     "metadata": {},
     "output_type": "execute_result"
    }
   ],
   "source": [
    "points = mesh.geometry.x\n",
    "points"
   ]
  },
  {
   "cell_type": "code",
   "execution_count": 7,
   "metadata": {
    "id": "OWnQn16p8puW"
   },
   "outputs": [
    {
     "data": {
      "text/plain": [
       "<AdjacencyList> with 12 nodes\n",
       "  0: [0 1 ]\n",
       "  1: [1 2 ]\n",
       "  2: [2 3 ]\n",
       "  3: [3 4 ]\n",
       "  4: [4 5 ]\n",
       "  5: [5 6 ]\n",
       "  6: [6 7 ]\n",
       "  7: [7 8 ]\n",
       "  8: [8 9 ]\n",
       "  9: [9 10 ]\n",
       "  10: [10 11 ]\n",
       "  11: [11 12 ]"
      ]
     },
     "execution_count": 7,
     "metadata": {},
     "output_type": "execute_result"
    }
   ],
   "source": [
    "connectivity_cells_to_vertices = mesh.topology.connectivity(mesh.topology.dim, 0)\n",
    "connectivity_cells_to_vertices"
   ]
  },
  {
   "cell_type": "markdown",
   "metadata": {
    "id": "HMnfAo1GK38u"
   },
   "source": [
    "(Note that `dolfinx` developers decided to store points as vectors in $\\mathbb{R}^3$, regardless of the actual ambient space dimension!)"
   ]
  },
  {
   "cell_type": "markdown",
   "metadata": {
    "id": "rdhlPpbAqiov"
   },
   "source": [
    "Let's save the number of elements."
   ]
  },
  {
   "cell_type": "code",
   "execution_count": 8,
   "metadata": {
    "id": "wWxBwSowLPwb"
   },
   "outputs": [
    {
     "data": {
      "text/plain": [
       "12"
      ]
     },
     "execution_count": 8,
     "metadata": {},
     "output_type": "execute_result"
    }
   ],
   "source": [
    "num_cells = len(connectivity_cells_to_vertices)\n",
    "num_cells"
   ]
  },
  {
   "cell_type": "markdown",
   "metadata": {
    "id": "N9Ys3rvzLmkk"
   },
   "source": [
    "We can have a look at each cell  by using a `for` loop. Each cell is assigned an unique ID and (in 1D) it is uniquely defined by two vertices, which correspond to the endpoints of the subinterval."
   ]
  },
  {
   "cell_type": "code",
   "execution_count": 9,
   "metadata": {
    "id": "VHQnwac3Lz8N"
   },
   "outputs": [
    {
     "name": "stdout",
     "output_type": "stream",
     "text": [
      "Cell ID 0 is defined by the following vertices:\n",
      "\tVertex ID 0 is located at x = 0.0\n",
      "\tVertex ID 1 is located at x = 0.08333333333333333\n",
      "Cell ID 1 is defined by the following vertices:\n",
      "\tVertex ID 1 is located at x = 0.08333333333333333\n",
      "\tVertex ID 2 is located at x = 0.16666666666666666\n",
      "Cell ID 2 is defined by the following vertices:\n",
      "\tVertex ID 2 is located at x = 0.16666666666666666\n",
      "\tVertex ID 3 is located at x = 0.25\n",
      "Cell ID 3 is defined by the following vertices:\n",
      "\tVertex ID 3 is located at x = 0.25\n",
      "\tVertex ID 4 is located at x = 0.3333333333333333\n",
      "Cell ID 4 is defined by the following vertices:\n",
      "\tVertex ID 4 is located at x = 0.3333333333333333\n",
      "\tVertex ID 5 is located at x = 0.41666666666666663\n",
      "Cell ID 5 is defined by the following vertices:\n",
      "\tVertex ID 5 is located at x = 0.41666666666666663\n",
      "\tVertex ID 6 is located at x = 0.5\n",
      "Cell ID 6 is defined by the following vertices:\n",
      "\tVertex ID 6 is located at x = 0.5\n",
      "\tVertex ID 7 is located at x = 0.5833333333333333\n",
      "Cell ID 7 is defined by the following vertices:\n",
      "\tVertex ID 7 is located at x = 0.5833333333333333\n",
      "\tVertex ID 8 is located at x = 0.6666666666666666\n",
      "Cell ID 8 is defined by the following vertices:\n",
      "\tVertex ID 8 is located at x = 0.6666666666666666\n",
      "\tVertex ID 9 is located at x = 0.75\n",
      "Cell ID 9 is defined by the following vertices:\n",
      "\tVertex ID 9 is located at x = 0.75\n",
      "\tVertex ID 10 is located at x = 0.8333333333333333\n",
      "Cell ID 10 is defined by the following vertices:\n",
      "\tVertex ID 10 is located at x = 0.8333333333333333\n",
      "\tVertex ID 11 is located at x = 0.9166666666666666\n",
      "Cell ID 11 is defined by the following vertices:\n",
      "\tVertex ID 11 is located at x = 0.9166666666666666\n",
      "\tVertex ID 12 is located at x = 1.0\n"
     ]
    }
   ],
   "source": [
    "for c in range(num_cells):\n",
    "\n",
    "    # Print the ID of the current cell\n",
    "    print(\"Cell ID\", c, \"is defined by the following vertices:\")\n",
    "    \n",
    "    # Print the vertices of the current cell\n",
    "    for v in connectivity_cells_to_vertices.links(c):\n",
    "        print(\"\\t\" + \"Vertex ID\", v, \"is located at x =\", points[v][0])"
   ]
  },
  {
   "cell_type": "markdown",
   "metadata": {
    "id": "YfemXRQQQgvT"
   },
   "source": [
    "Next, we identify the IDs corresponding to boundary nodes. We use the\n",
    "\n",
    "`dolfinx.mesh` function `locate_entities_boundary`. It requires the following inputs:\n",
    " * the first argument is the mesh,\n",
    " * the second argument represent the topological dimension of the mesh entities which we are interested in. In 1D, `mesh.topology.dim` is equal to 1, and entities of topological dimension 1 are the cells (subintervals), while `mesh.topology.dim - 1` is equal to 0, and entities of topological dimension 0 are the vertices of mesh.\n",
    " * the third argument is a condition (i.e., a function that returns either `True` or `False`) on the coordinates `x`, which are stored as a vector. Since we are interested in finding the vertex located at $x = 0$, we may think of using `x[0] == 0` as a condition: however, due to floating point arithmetic, it is safer to use $\\left|x - 0\\right| < \\varepsilon$, where $\\varepsilon$ is a small number, which may be written as `np.isclose(x[0], 0.0)`."
   ]
  },
  {
   "cell_type": "code",
   "execution_count": 10,
   "metadata": {
    "id": "7jVpxpLwRcWT"
   },
   "outputs": [
    {
     "data": {
      "text/plain": [
       "array([12], dtype=int32)"
      ]
     },
     "execution_count": 10,
     "metadata": {},
     "output_type": "execute_result"
    }
   ],
   "source": [
    "# Also the dimension is a topological info:\n",
    "tdim = mesh.topology.dim\n",
    "fdim = tdim - 1\n",
    "\n",
    "left_boundary_entities = dolfinx.mesh.locate_entities_boundary(mesh, fdim, lambda x: np.isclose(x[0], 0.0))\n",
    "right_boundary_entities = dolfinx.mesh.locate_entities(mesh, fdim, lambda x: np.isclose(x[0], 1.0))\n",
    "\n",
    "right_boundary_entities"
   ]
  },
  {
   "cell_type": "markdown",
   "metadata": {
    "id": "Ps4N7UAcRtXa"
   },
   "source": [
    "**Task 2: create FEM space.**\n",
    "\n",
    "We define the finite element function space $V_h$ using $\\mathbb{P}_2$ Lagrange elements.\n",
    "\n",
    "This is obtained using the `FunctionSpace` class of `dolfinx.fem`.\n",
    "\n",
    "The first argument specifies the mesh. The second the type of FE space. To define the standard (conforming) Lagrange elements we input `\"CG\"`. Using instead `\"Lagrange\"` or `\"P\"` yields the same space."
   ]
  },
  {
   "cell_type": "code",
   "execution_count": 11,
   "metadata": {
    "id": "CoidZDPdSwyz"
   },
   "outputs": [],
   "source": [
    "Vh = dolfinx.fem.functionspace(mesh, (\"P\", 2))"
   ]
  },
  {
   "cell_type": "markdown",
   "metadata": {
    "id": "zO-nLsFrUMaQ"
   },
   "source": [
    "Store the dimension of the space:"
   ]
  },
  {
   "cell_type": "code",
   "execution_count": 12,
   "metadata": {
    "id": "BonrakZiUQrQ"
   },
   "outputs": [
    {
     "data": {
      "text/plain": [
       "25"
      ]
     },
     "execution_count": 12,
     "metadata": {},
     "output_type": "execute_result"
    }
   ],
   "source": [
    "Vh_dim = Vh.dofmap.index_map.size_local\n",
    "Vh_dim"
   ]
  },
  {
   "cell_type": "markdown",
   "metadata": {
    "id": "QrhctjdIUVUT"
   },
   "source": [
    "Once the FE space is at hand, we introduce *ufl*  (unified form language) symbols to define the trial and test functions for our weak formulation:"
   ]
  },
  {
   "cell_type": "code",
   "execution_count": 13,
   "metadata": {
    "id": "gsjHc467UbKE"
   },
   "outputs": [],
   "source": [
    "uh = ufl.TrialFunction(Vh)\n",
    "vh = ufl.TestFunction(Vh)"
   ]
  },
  {
   "cell_type": "markdown",
   "metadata": {
    "id": "UrUjD77qsFvR"
   },
   "source": [
    "**Task 3:** Set up FEM system"
   ]
  },
  {
   "cell_type": "markdown",
   "metadata": {
    "id": "EZBjfjYBUtwh"
   },
   "source": [
    "Now we are ready to define the FEM using the ufl capability.\n",
    "* `uh.dx(0)` corresponds to $\\frac{\\partial u}{\\partial x}$, where the argument `0` to `dx` means to take the derivative with respect to the first space coordinate (the only one of interest in this case).\n",
    "* `ufl.dx` provides a measure for integration over the domain. Integration will automatically occur over the entire domain."
   ]
  },
  {
   "cell_type": "code",
   "execution_count": 14,
   "metadata": {
    "id": "w7-HO_gdUzJB"
   },
   "outputs": [],
   "source": [
    "dx = ufl.dx\n",
    "\n",
    "A = uh.dx(0) * vh.dx(0) * dx\n",
    "\n",
    "F = 2 * vh * dx"
   ]
  },
  {
   "cell_type": "markdown",
   "metadata": {
    "id": "uIm-FZt8sOVv"
   },
   "source": [
    "**Task 4:** Apply boundary conditions"
   ]
  },
  {
   "cell_type": "markdown",
   "metadata": {
    "id": "2lF6nZNBWksG"
   },
   "source": [
    "It remains to implement the boundary conditions. To do so we:\n",
    "* determine the degree of freedom that corresponds to the boundary vertices.\n",
    "* define a `Constant` equal to `0` and a `Constant` equal to `1` corresponding to the values on the boundary.\n",
    "* create a list containing the Dirichlet boundary conditions (two in this case), that is the constraints on the FE function DoF:"
   ]
  },
  {
   "cell_type": "markdown",
   "metadata": {
    "id": "HlOx0XhAWyQp"
   },
   "source": [
    "We can help ourselves looking at the following table, which has in the first colum the ID of the degree of freedom, and in the second column the corresponding 𝑥 coordinate."
   ]
  },
  {
   "cell_type": "code",
   "execution_count": 15,
   "metadata": {
    "id": "b3rGRr_9W0nJ"
   },
   "outputs": [
    {
     "name": "stdout",
     "output_type": "stream",
     "text": [
      "[[ 0.    0.  ]\n",
      " [ 1.    0.08]\n",
      " [ 2.    0.04]\n",
      " [ 3.    0.17]\n",
      " [ 4.    0.12]\n",
      " [ 5.    0.25]\n",
      " [ 6.    0.21]\n",
      " [ 7.    0.33]\n",
      " [ 8.    0.29]\n",
      " [ 9.    0.42]\n",
      " [10.    0.38]\n",
      " [11.    0.5 ]\n",
      " [12.    0.46]\n",
      " [13.    0.58]\n",
      " [14.    0.54]\n",
      " [15.    0.67]\n",
      " [16.    0.62]\n",
      " [17.    0.75]\n",
      " [18.    0.71]\n",
      " [19.    0.83]\n",
      " [20.    0.79]\n",
      " [21.    0.92]\n",
      " [22.    0.88]\n",
      " [23.    1.  ]\n",
      " [24.    0.96]]\n"
     ]
    }
   ],
   "source": [
    "with np.printoptions(precision=2, suppress=True):\n",
    "    print(np.vstack((np.arange(Vh_dim), Vh.tabulate_dof_coordinates()[:, 0])).T)"
   ]
  },
  {
   "cell_type": "code",
   "execution_count": 16,
   "metadata": {
    "id": "dKGxbV-bXyWu"
   },
   "outputs": [],
   "source": [
    "left_boundary_dofs = dolfinx.fem.locate_dofs_topological(Vh, mesh.topology.dim-1, left_boundary_entities)"
   ]
  },
  {
   "cell_type": "code",
   "execution_count": 17,
   "metadata": {
    "id": "VA-TKKWlX35t"
   },
   "outputs": [],
   "source": [
    "right_boundary_dofs = dolfinx.fem.locate_dofs_topological(Vh, mesh.topology.dim-1, right_boundary_entities)"
   ]
  },
  {
   "cell_type": "code",
   "execution_count": 18,
   "metadata": {
    "id": "-CSBO8wiX56Y"
   },
   "outputs": [],
   "source": [
    "zero = dolfinx.fem.Constant(mesh, 0.)\n",
    "one = dolfinx.fem.Constant(mesh, 1.)"
   ]
  },
  {
   "cell_type": "code",
   "execution_count": 19,
   "metadata": {
    "id": "KDgMAlG-YAEP"
   },
   "outputs": [],
   "source": [
    "bcs = [dolfinx.fem.dirichletbc(zero, left_boundary_dofs, Vh), dolfinx.fem.dirichletbc(one, right_boundary_dofs, Vh)]"
   ]
  },
  {
   "cell_type": "markdown",
   "metadata": {
    "id": "m0t_9i7IYdoX"
   },
   "source": [
    "**Task 5:** Solve the FEM system\n",
    "\n",
    "In order to solve the FEM system, we go through the following steps:\n",
    "\n",
    "* `dolfinx.fem` provides a `Function` class to store the solution of a finite element problem:\n",
    "* solve the discrete problem allocating a new `LinearProblem` (which uses `PETSc`), providing as input the bilinear form `a`, the linear functional `F`, the boundary conditions `bcs`, and where to store the solution. Further solver options can also be passed to `PETSc`."
   ]
  },
  {
   "cell_type": "code",
   "execution_count": 20,
   "metadata": {
    "id": "jxZYnUJ-Y0ij"
   },
   "outputs": [],
   "source": [
    "solution = dolfinx.fem.Function(Vh)"
   ]
  },
  {
   "cell_type": "code",
   "execution_count": 21,
   "metadata": {
    "id": "_kMhuylXZTwj"
   },
   "outputs": [],
   "source": [
    "problem = dolfinx.fem.petsc.LinearProblem(\n",
    "    A, F, bcs=bcs, u=solution,\n",
    "    petsc_options={\"ksp_type\": \"preonly\", \"pc_type\": \"lu\", \"pc_factor_mat_solver_type\": \"mumps\"})\n",
    "_ = problem.solve()"
   ]
  },
  {
   "cell_type": "markdown",
   "metadata": {
    "id": "GO7UEGFc_dzt"
   },
   "source": [
    "Here are the computed FEM solution's DoF:"
   ]
  },
  {
   "cell_type": "code",
   "execution_count": 22,
   "metadata": {
    "id": "E_1bkwlT_boI"
   },
   "outputs": [
    {
     "ename": "AttributeError",
     "evalue": "'Function' object has no attribute 'vector'",
     "output_type": "error",
     "traceback": [
      "\u001b[0;31m---------------------------------------------------------------------------\u001b[0m",
      "\u001b[0;31mAttributeError\u001b[0m                            Traceback (most recent call last)",
      "Cell \u001b[0;32mIn[22], line 1\u001b[0m\n\u001b[0;32m----> 1\u001b[0m \u001b[38;5;28mprint\u001b[39m(\u001b[43msolution\u001b[49m\u001b[38;5;241;43m.\u001b[39;49m\u001b[43mvector\u001b[49m\u001b[38;5;241m.\u001b[39marray)\n",
      "\u001b[0;31mAttributeError\u001b[0m: 'Function' object has no attribute 'vector'"
     ]
    }
   ],
   "source": [
    "print(solution.vector.array)"
   ]
  },
  {
   "cell_type": "markdown",
   "metadata": {
    "id": "Sxj4_ij__bFM"
   },
   "source": [
    "...  and corresponding plot of the solution"
   ]
  },
  {
   "cell_type": "code",
   "execution_count": 24,
   "metadata": {
    "id": "Bfv9C4bhZw5n"
   },
   "outputs": [
    {
     "data": {
      "application/vnd.jupyter.widget-view+json": {
       "model_id": "f18a1ea7ea0a4452b1b2292146b2ced7",
       "version_major": 2,
       "version_minor": 0
      },
      "text/plain": [
       "Widget(value='<iframe src=\"http://localhost:42195/index.html?ui=P_0x7bfe36bc7770_1&reconnect=auto\" class=\"pyvi…"
      ]
     },
     "metadata": {},
     "output_type": "display_data"
    }
   ],
   "source": [
    "viskex.dolfinx.plot_scalar_field(solution, \"u_h\")"
   ]
  },
  {
   "cell_type": "code",
   "execution_count": 25,
   "metadata": {
    "id": "IJRsr_pg-4d8"
   },
   "outputs": [
    {
     "data": {
      "application/vnd.jupyter.widget-view+json": {
       "model_id": "0ba872cda6d04943a692a7c741f26b8d",
       "version_major": 2,
       "version_minor": 0
      },
      "text/plain": [
       "Widget(value='<iframe src=\"http://localhost:42195/index.html?ui=P_0x7bfe36941790_2&reconnect=auto\" class=\"pyvi…"
      ]
     },
     "metadata": {},
     "output_type": "display_data"
    }
   ],
   "source": [
    "viskex.dolfinx.plot_scalar_field(solution, \"u_h\", warp_factor=1.0)"
   ]
  },
  {
   "cell_type": "markdown",
   "metadata": {
    "id": "jD4ebiQtakng"
   },
   "source": [
    "# Compute error"
   ]
  },
  {
   "cell_type": "markdown",
   "metadata": {
    "id": "WaJgOx07aqTt"
   },
   "source": [
    "**Task 6:** compute the $L^2$ and $H^1$ errors.\n",
    "\n",
    "The exact solution is:\n",
    "$$ u(x) = - x^2 + 2 x.$$\n",
    "\n",
    "The $L^2(I)$ norm of the error $u - u_h$ is defined as:\n",
    "$$ e_h^2 = \\int_I \\left(u(x) - u_h(x)\\right)^2 \\ \\mathrm{d}x.$$"
   ]
  },
  {
   "cell_type": "markdown",
   "metadata": {
    "id": "1pRRgIewbelh"
   },
   "source": [
    "In order to evaluate the error, we first need to define a symbolic representation in `ufl` of the exact solution $u(x)$. To this end, we need to define a symbol for the coordinate `x` ..."
   ]
  },
  {
   "cell_type": "code",
   "execution_count": 26,
   "metadata": {
    "id": "o4NlXNL0bqDr"
   },
   "outputs": [],
   "source": [
    "xyz = ufl.SpatialCoordinate(mesh)\n",
    "x = xyz[0]"
   ]
  },
  {
   "cell_type": "markdown",
   "metadata": {
    "id": "Ck4ZAWrZbzBG"
   },
   "source": [
    "and then we can define a symbolic expression in `ufl` for the exact solution $u$:"
   ]
  },
  {
   "cell_type": "code",
   "execution_count": 27,
   "metadata": {
    "id": "US-982tcbsCt"
   },
   "outputs": [],
   "source": [
    "exact_solution = - x**2 + 2 * x"
   ]
  },
  {
   "cell_type": "markdown",
   "metadata": {
    "id": "3jDHvG9Ebya3"
   },
   "source": [
    "Hence we can define a symbolic expression in `ufl` for the integral defining the error:"
   ]
  },
  {
   "cell_type": "code",
   "execution_count": 28,
   "metadata": {
    "id": "EntFew8EcIic"
   },
   "outputs": [],
   "source": [
    "error_L2squared_ufl = (exact_solution - solution)**2 * dx"
   ]
  },
  {
   "cell_type": "markdown",
   "metadata": {
    "id": "zlprrnpccPEn"
   },
   "source": [
    "Finally, we evaluate the error using the `dolfinx.fem` function `assemble_scalar`:"
   ]
  },
  {
   "cell_type": "code",
   "execution_count": 29,
   "metadata": {
    "id": "gxQ8Sh4ocADe"
   },
   "outputs": [
    {
     "name": "stdout",
     "output_type": "stream",
     "text": [
      "7.379928941206907e-29\n"
     ]
    }
   ],
   "source": [
    "error_L2squared = dolfinx.fem.assemble_scalar(dolfinx.fem.form(error_L2squared_ufl))\n",
    "print(error_L2squared)"
   ]
  },
  {
   "cell_type": "markdown",
   "metadata": {
    "id": "NSae1SaZcdvn"
   },
   "source": [
    "Note that, given that we are using quadratic elements, we expect the error to be zero!"
   ]
  },
  {
   "cell_type": "markdown",
   "metadata": {
    "id": "QTnw7C3b4GsS"
   },
   "source": [
    "Similarly we can compute the H1 seminorm error:"
   ]
  },
  {
   "cell_type": "code",
   "execution_count": 30,
   "metadata": {
    "id": "KybnFblW3SCo"
   },
   "outputs": [
    {
     "data": {
      "text/plain": [
       "9.327731073463075e-28"
      ]
     },
     "execution_count": 30,
     "metadata": {},
     "output_type": "execute_result"
    }
   ],
   "source": [
    "error_H1squared_ufl = (exact_solution.dx(0) - solution.dx(0) ) **2 * dx\n",
    "error_H1squared = dolfinx.fem.assemble_scalar(dolfinx.fem.form(error_H1squared_ufl))\n",
    "error_H1squared"
   ]
  },
  {
   "cell_type": "code",
   "execution_count": null,
   "metadata": {},
   "outputs": [],
   "source": []
  },
  {
   "cell_type": "code",
   "execution_count": null,
   "metadata": {},
   "outputs": [],
   "source": []
  },
  {
   "cell_type": "code",
   "execution_count": null,
   "metadata": {},
   "outputs": [],
   "source": []
  }
 ],
 "metadata": {
  "colab": {
   "authorship_tag": "ABX9TyM9Zw8/kgTaAzHWqUPhrzJS",
   "collapsed_sections": [
    "iBa6BgX7IU2k",
    "n6_gG3tNImhr",
    "3xXhYbfYI05B",
    "jD4ebiQtakng"
   ],
   "include_colab_link": true,
   "provenance": []
  },
  "kernelspec": {
   "display_name": "Python 3 (ipykernel)",
   "language": "python",
   "name": "python3"
  },
  "language_info": {
   "codemirror_mode": {
    "name": "ipython",
    "version": 3
   },
   "file_extension": ".py",
   "mimetype": "text/x-python",
   "name": "python",
   "nbconvert_exporter": "python",
   "pygments_lexer": "ipython3",
   "version": "3.12.3"
  }
 },
 "nbformat": 4,
 "nbformat_minor": 4
}
